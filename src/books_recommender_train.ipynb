{
 "cells": [
  {
   "cell_type": "markdown",
   "id": "a200c252-4271-4794-8597-7234895c47af",
   "metadata": {
    "id": "a200c252-4271-4794-8597-7234895c47af"
   },
   "source": [
    "**Imports**"
   ]
  },
  {
   "cell_type": "code",
   "execution_count": 1,
   "id": "AfMLzX6SZo-c",
   "metadata": {
    "colab": {
     "base_uri": "https://localhost:8080/"
    },
    "id": "AfMLzX6SZo-c",
    "outputId": "4a7c3b1c-99da-4aed-a48a-32d5ce89973b"
   },
   "outputs": [],
   "source": [
    "import os\n",
    "from pathlib import Path\n",
    "# Check if the code is running on Google Colab\n",
    "try:\n",
    "    import google.colab\n",
    "    IN_COLAB = True\n",
    "    base_path = \"/content/\"\n",
    "    if Path(f\"{base_path}final_project\").is_dir():\n",
    "      %cd {base_path}final_project\n",
    "      !git pull\n",
    "      %cd {base_path}\n",
    "    else:\n",
    "      !git clone https://github.com/fernandaluft/final_project.git\n",
    "except ImportError:\n",
    "    IN_COLAB = False\n",
    "    base_path = \"/workspaces/\""
   ]
  },
  {
   "cell_type": "code",
   "execution_count": 2,
   "id": "99c7960c-4f5d-451c-b54b-7d66fb9a09e5",
   "metadata": {
    "id": "99c7960c-4f5d-451c-b54b-7d66fb9a09e5"
   },
   "outputs": [
    {
     "name": "stderr",
     "output_type": "stream",
     "text": [
      "/tmp/ipykernel_3527/1233082338.py:1: DeprecationWarning: \n",
      "Pyarrow will become a required dependency of pandas in the next major release of pandas (pandas 3.0),\n",
      "(to allow more performant data types, such as the Arrow string type, and better interoperability with other libraries)\n",
      "but was not found to be installed on your system.\n",
      "If this would cause problems for you,\n",
      "please provide us feedback at https://github.com/pandas-dev/pandas/issues/54466\n",
      "        \n",
      "  import pandas as pd\n"
     ]
    }
   ],
   "source": [
    "import pandas as pd\n",
    "import numpy as np\n",
    "import matplotlib.pyplot as plt\n",
    "import seaborn as sns\n",
    "import sqlite3\n",
    "from sklearn.feature_extraction.text import TfidfVectorizer\n",
    "from sklearn.neighbors import NearestNeighbors\n",
    "from sklearn.metrics.pairwise import cosine_similarity\n",
    "from pickle import dump, load\n",
    "import re\n",
    "import sklearn"
   ]
  },
  {
   "cell_type": "code",
   "execution_count": 4,
   "id": "TpHuYiPJc1cd",
   "metadata": {
    "id": "TpHuYiPJc1cd"
   },
   "outputs": [],
   "source": [
    "def preprocess_text(text):\n",
    "    # remove special chars and digits\n",
    "    text = re.sub(r'\\W|\\d', ' ', text).lower()\n",
    "    text = re.sub(r' +', ' ', text)\n",
    "    return text.strip()"
   ]
  },
  {
   "cell_type": "code",
   "execution_count": 7,
   "id": "-hK4-SPYaoBL",
   "metadata": {
    "colab": {
     "base_uri": "https://localhost:8080/"
    },
    "id": "-hK4-SPYaoBL",
    "outputId": "4912c193-7193-4a58-8277-71393f7d29b7"
   },
   "outputs": [
    {
     "name": "stdout",
     "output_type": "stream",
     "text": [
      "Archive:  ../preprocessed_data/xaa_books_reviews.zip\n",
      "  inflating: content/final_project/data/books_reviews.csv  \n"
     ]
    }
   ],
   "source": [
    "!unzip ../preprocessed_data/xaa_books_reviews.zip"
   ]
  },
  {
   "cell_type": "code",
   "execution_count": 8,
   "id": "WvCKj4SMawGx",
   "metadata": {
    "id": "WvCKj4SMawGx"
   },
   "outputs": [],
   "source": [
    "df = pd.read_csv('content/final_project/data/books_reviews.csv')"
   ]
  },
  {
   "cell_type": "code",
   "execution_count": 9,
   "id": "tO2YAMJCa2kO",
   "metadata": {
    "id": "tO2YAMJCa2kO"
   },
   "outputs": [
    {
     "name": "stdout",
     "output_type": "stream",
     "text": [
      "<class 'pandas.core.frame.DataFrame'>\n",
      "RangeIndex: 60000 entries, 0 to 59999\n",
      "Data columns (total 19 columns):\n",
      " #   Column              Non-Null Count  Dtype  \n",
      "---  ------              --------------  -----  \n",
      " 0   Title               59995 non-null  object \n",
      " 1   description         47100 non-null  object \n",
      " 2   authors             52127 non-null  object \n",
      " 3   image               49220 non-null  object \n",
      " 4   previewLink         53366 non-null  object \n",
      " 5   publisher           44299 non-null  object \n",
      " 6   publishedDate       52903 non-null  object \n",
      " 7   infoLink            53366 non-null  object \n",
      " 8   categories          48894 non-null  object \n",
      " 9   ratingsCount        32878 non-null  float64\n",
      " 10  Id                  60000 non-null  object \n",
      " 11  Price               9789 non-null   float64\n",
      " 12  User_id             48733 non-null  object \n",
      " 13  profileName         48731 non-null  object \n",
      " 14  review/helpfulness  60000 non-null  object \n",
      " 15  review/score        60000 non-null  float64\n",
      " 16  review/time         60000 non-null  int64  \n",
      " 17  review/summary      59988 non-null  object \n",
      " 18  review/text         60000 non-null  object \n",
      "dtypes: float64(3), int64(1), object(15)\n",
      "memory usage: 8.7+ MB\n"
     ]
    }
   ],
   "source": [
    "df.info()"
   ]
  },
  {
   "cell_type": "code",
   "execution_count": 10,
   "id": "6iJZiS8vbKbH",
   "metadata": {
    "id": "6iJZiS8vbKbH"
   },
   "outputs": [
    {
     "data": {
      "text/plain": [
       "Index(['Title', 'description', 'authors', 'image', 'previewLink', 'publisher',\n",
       "       'publishedDate', 'infoLink', 'categories', 'ratingsCount', 'Id',\n",
       "       'Price', 'User_id', 'profileName', 'review/helpfulness', 'review/score',\n",
       "       'review/time', 'review/summary', 'review/text'],\n",
       "      dtype='object')"
      ]
     },
     "execution_count": 10,
     "metadata": {},
     "output_type": "execute_result"
    }
   ],
   "source": [
    "df.columns"
   ]
  },
  {
   "cell_type": "code",
   "execution_count": 11,
   "id": "1ac2adc6-aa06-4162-a7ce-d1c64b44cec7",
   "metadata": {
    "id": "1ac2adc6-aa06-4162-a7ce-d1c64b44cec7"
   },
   "outputs": [],
   "source": [
    "df_rec = df[['Title', 'description', 'review/text', 'categories', 'authors']]"
   ]
  },
  {
   "cell_type": "code",
   "execution_count": 12,
   "id": "1aedcbc8-cd8e-49a3-96d4-d87d71d2c1c1",
   "metadata": {
    "id": "1aedcbc8-cd8e-49a3-96d4-d87d71d2c1c1"
   },
   "outputs": [],
   "source": [
    "#Disable SettingWithCopyWarning\n",
    "pd.set_option('mode.chained_assignment', None)"
   ]
  },
  {
   "cell_type": "code",
   "execution_count": 13,
   "id": "hX9TUlgPdLKg",
   "metadata": {
    "id": "hX9TUlgPdLKg"
   },
   "outputs": [],
   "source": [
    "df_rec = df_rec.map(lambda x: preprocess_text(x) if isinstance(x, str) else x)"
   ]
  },
  {
   "cell_type": "code",
   "execution_count": 14,
   "id": "wpxbavAaeHEa",
   "metadata": {
    "id": "wpxbavAaeHEa"
   },
   "outputs": [
    {
     "data": {
      "text/html": [
       "<div>\n",
       "<style scoped>\n",
       "    .dataframe tbody tr th:only-of-type {\n",
       "        vertical-align: middle;\n",
       "    }\n",
       "\n",
       "    .dataframe tbody tr th {\n",
       "        vertical-align: top;\n",
       "    }\n",
       "\n",
       "    .dataframe thead th {\n",
       "        text-align: right;\n",
       "    }\n",
       "</style>\n",
       "<table border=\"1\" class=\"dataframe\">\n",
       "  <thead>\n",
       "    <tr style=\"text-align: right;\">\n",
       "      <th></th>\n",
       "      <th>Title</th>\n",
       "      <th>description</th>\n",
       "      <th>review/text</th>\n",
       "      <th>categories</th>\n",
       "      <th>authors</th>\n",
       "    </tr>\n",
       "  </thead>\n",
       "  <tbody>\n",
       "    <tr>\n",
       "      <th>0</th>\n",
       "      <td>run baby run</td>\n",
       "      <td>this is the thrilling story of nicky cruz s de...</td>\n",
       "      <td>this is an inspiring and heart breaking story ...</td>\n",
       "      <td>conversion</td>\n",
       "      <td>nicky cruz jamie buckingham</td>\n",
       "    </tr>\n",
       "    <tr>\n",
       "      <th>1</th>\n",
       "      <td>discover your sales strengths how the world s ...</td>\n",
       "      <td>in the ever changing world of sales there is n...</td>\n",
       "      <td>reconmended to me by extremely successful sale...</td>\n",
       "      <td>business economics</td>\n",
       "      <td>benson smith tony rutigliano</td>\n",
       "    </tr>\n",
       "    <tr>\n",
       "      <th>2</th>\n",
       "      <td>daily with the king a devotional for self disc...</td>\n",
       "      <td>NaN</td>\n",
       "      <td>i have been using this book for more than fift...</td>\n",
       "      <td>NaN</td>\n",
       "      <td>NaN</td>\n",
       "    </tr>\n",
       "    <tr>\n",
       "      <th>3</th>\n",
       "      <td>animal farm th anniversary edition</td>\n",
       "      <td>a satire on totalitarianism in which farm anim...</td>\n",
       "      <td>animal farm is an allegory of a communist nati...</td>\n",
       "      <td>fiction</td>\n",
       "      <td>george orwell</td>\n",
       "    </tr>\n",
       "    <tr>\n",
       "      <th>4</th>\n",
       "      <td>mash</td>\n",
       "      <td>before the movie this is the novel that gave l...</td>\n",
       "      <td>very humorous exciting book it really was enjo...</td>\n",
       "      <td>fiction</td>\n",
       "      <td>richard hooker</td>\n",
       "    </tr>\n",
       "  </tbody>\n",
       "</table>\n",
       "</div>"
      ],
      "text/plain": [
       "                                               Title  \\\n",
       "0                                       run baby run   \n",
       "1  discover your sales strengths how the world s ...   \n",
       "2  daily with the king a devotional for self disc...   \n",
       "3                 animal farm th anniversary edition   \n",
       "4                                               mash   \n",
       "\n",
       "                                         description  \\\n",
       "0  this is the thrilling story of nicky cruz s de...   \n",
       "1  in the ever changing world of sales there is n...   \n",
       "2                                                NaN   \n",
       "3  a satire on totalitarianism in which farm anim...   \n",
       "4  before the movie this is the novel that gave l...   \n",
       "\n",
       "                                         review/text          categories  \\\n",
       "0  this is an inspiring and heart breaking story ...          conversion   \n",
       "1  reconmended to me by extremely successful sale...  business economics   \n",
       "2  i have been using this book for more than fift...                 NaN   \n",
       "3  animal farm is an allegory of a communist nati...             fiction   \n",
       "4  very humorous exciting book it really was enjo...             fiction   \n",
       "\n",
       "                        authors  \n",
       "0   nicky cruz jamie buckingham  \n",
       "1  benson smith tony rutigliano  \n",
       "2                           NaN  \n",
       "3                 george orwell  \n",
       "4                richard hooker  "
      ]
     },
     "execution_count": 14,
     "metadata": {},
     "output_type": "execute_result"
    }
   ],
   "source": [
    "df_rec.head()"
   ]
  },
  {
   "cell_type": "code",
   "execution_count": 15,
   "id": "19a1155e-6967-4988-bc84-a5c32dca6eb2",
   "metadata": {
    "id": "19a1155e-6967-4988-bc84-a5c32dca6eb2"
   },
   "outputs": [],
   "source": [
    "df_rec['tags'] = df_rec['Title'] + ' ' + df_rec['description'] + ' ' + df_rec['review/text'] + ' ' + df_rec['categories'] + ' ' + df_rec['authors']"
   ]
  },
  {
   "cell_type": "code",
   "execution_count": 16,
   "id": "6cdd10e8-af7f-49e9-8a9b-473b8e7e1e00",
   "metadata": {
    "id": "6cdd10e8-af7f-49e9-8a9b-473b8e7e1e00"
   },
   "outputs": [],
   "source": [
    "df_rec['tags'] = df_rec['tags'].fillna('')"
   ]
  },
  {
   "cell_type": "code",
   "execution_count": 19,
   "id": "a443d7a5-6446-4fd7-aebb-04ca918609ae",
   "metadata": {
    "id": "a443d7a5-6446-4fd7-aebb-04ca918609ae"
   },
   "outputs": [],
   "source": [
    "df_rec.to_csv('../data/books_processed.csv')"
   ]
  },
  {
   "cell_type": "code",
   "execution_count": 21,
   "id": "8d9353fa",
   "metadata": {},
   "outputs": [
    {
     "name": "stdout",
     "output_type": "stream",
     "text": [
      "  adding: workspaces/final_project/data/books_processed.csv (deflated 77%)\n"
     ]
    }
   ],
   "source": [
    "!zip -r /workspaces/final_project/src/books_processed.zip /workspaces/final_project/data/books_processed.csv"
   ]
  },
  {
   "cell_type": "markdown",
   "id": "a8a041f1-514b-4d7d-b7a1-766936c05bc7",
   "metadata": {
    "id": "a8a041f1-514b-4d7d-b7a1-766936c05bc7"
   },
   "source": [
    "**Transforming the text in array**"
   ]
  },
  {
   "cell_type": "code",
   "execution_count": 20,
   "id": "a3696e16-7558-4fda-867a-d59fe8e65002",
   "metadata": {
    "id": "a3696e16-7558-4fda-867a-d59fe8e65002"
   },
   "outputs": [],
   "source": [
    "vectorizer = TfidfVectorizer()\n",
    "vector = vectorizer.fit_transform(df_rec['tags'])"
   ]
  },
  {
   "cell_type": "code",
   "execution_count": 30,
   "id": "TR9RdW5GuAvE",
   "metadata": {
    "id": "TR9RdW5GuAvE"
   },
   "outputs": [],
   "source": [
    "dump(vector, open(\"/workspaces/final_project/models/vector_books.sav\", \"wb\"))"
   ]
  },
  {
   "cell_type": "markdown",
   "id": "a40c35a1-7ffa-47f4-b0fc-e8695daf2573",
   "metadata": {
    "id": "a40c35a1-7ffa-47f4-b0fc-e8695daf2573"
   },
   "source": [
    "**Train the model**"
   ]
  },
  {
   "cell_type": "code",
   "execution_count": 23,
   "id": "3796129c-483c-4f20-bca5-5cdbf601d642",
   "metadata": {
    "id": "3796129c-483c-4f20-bca5-5cdbf601d642"
   },
   "outputs": [
    {
     "data": {
      "text/html": [
       "<style>#sk-container-id-1 {\n",
       "  /* Definition of color scheme common for light and dark mode */\n",
       "  --sklearn-color-text: black;\n",
       "  --sklearn-color-line: gray;\n",
       "  /* Definition of color scheme for unfitted estimators */\n",
       "  --sklearn-color-unfitted-level-0: #fff5e6;\n",
       "  --sklearn-color-unfitted-level-1: #f6e4d2;\n",
       "  --sklearn-color-unfitted-level-2: #ffe0b3;\n",
       "  --sklearn-color-unfitted-level-3: chocolate;\n",
       "  /* Definition of color scheme for fitted estimators */\n",
       "  --sklearn-color-fitted-level-0: #f0f8ff;\n",
       "  --sklearn-color-fitted-level-1: #d4ebff;\n",
       "  --sklearn-color-fitted-level-2: #b3dbfd;\n",
       "  --sklearn-color-fitted-level-3: cornflowerblue;\n",
       "\n",
       "  /* Specific color for light theme */\n",
       "  --sklearn-color-text-on-default-background: var(--sg-text-color, var(--theme-code-foreground, var(--jp-content-font-color1, black)));\n",
       "  --sklearn-color-background: var(--sg-background-color, var(--theme-background, var(--jp-layout-color0, white)));\n",
       "  --sklearn-color-border-box: var(--sg-text-color, var(--theme-code-foreground, var(--jp-content-font-color1, black)));\n",
       "  --sklearn-color-icon: #696969;\n",
       "\n",
       "  @media (prefers-color-scheme: dark) {\n",
       "    /* Redefinition of color scheme for dark theme */\n",
       "    --sklearn-color-text-on-default-background: var(--sg-text-color, var(--theme-code-foreground, var(--jp-content-font-color1, white)));\n",
       "    --sklearn-color-background: var(--sg-background-color, var(--theme-background, var(--jp-layout-color0, #111)));\n",
       "    --sklearn-color-border-box: var(--sg-text-color, var(--theme-code-foreground, var(--jp-content-font-color1, white)));\n",
       "    --sklearn-color-icon: #878787;\n",
       "  }\n",
       "}\n",
       "\n",
       "#sk-container-id-1 {\n",
       "  color: var(--sklearn-color-text);\n",
       "}\n",
       "\n",
       "#sk-container-id-1 pre {\n",
       "  padding: 0;\n",
       "}\n",
       "\n",
       "#sk-container-id-1 input.sk-hidden--visually {\n",
       "  border: 0;\n",
       "  clip: rect(1px 1px 1px 1px);\n",
       "  clip: rect(1px, 1px, 1px, 1px);\n",
       "  height: 1px;\n",
       "  margin: -1px;\n",
       "  overflow: hidden;\n",
       "  padding: 0;\n",
       "  position: absolute;\n",
       "  width: 1px;\n",
       "}\n",
       "\n",
       "#sk-container-id-1 div.sk-dashed-wrapped {\n",
       "  border: 1px dashed var(--sklearn-color-line);\n",
       "  margin: 0 0.4em 0.5em 0.4em;\n",
       "  box-sizing: border-box;\n",
       "  padding-bottom: 0.4em;\n",
       "  background-color: var(--sklearn-color-background);\n",
       "}\n",
       "\n",
       "#sk-container-id-1 div.sk-container {\n",
       "  /* jupyter's `normalize.less` sets `[hidden] { display: none; }`\n",
       "     but bootstrap.min.css set `[hidden] { display: none !important; }`\n",
       "     so we also need the `!important` here to be able to override the\n",
       "     default hidden behavior on the sphinx rendered scikit-learn.org.\n",
       "     See: https://github.com/scikit-learn/scikit-learn/issues/21755 */\n",
       "  display: inline-block !important;\n",
       "  position: relative;\n",
       "}\n",
       "\n",
       "#sk-container-id-1 div.sk-text-repr-fallback {\n",
       "  display: none;\n",
       "}\n",
       "\n",
       "div.sk-parallel-item,\n",
       "div.sk-serial,\n",
       "div.sk-item {\n",
       "  /* draw centered vertical line to link estimators */\n",
       "  background-image: linear-gradient(var(--sklearn-color-text-on-default-background), var(--sklearn-color-text-on-default-background));\n",
       "  background-size: 2px 100%;\n",
       "  background-repeat: no-repeat;\n",
       "  background-position: center center;\n",
       "}\n",
       "\n",
       "/* Parallel-specific style estimator block */\n",
       "\n",
       "#sk-container-id-1 div.sk-parallel-item::after {\n",
       "  content: \"\";\n",
       "  width: 100%;\n",
       "  border-bottom: 2px solid var(--sklearn-color-text-on-default-background);\n",
       "  flex-grow: 1;\n",
       "}\n",
       "\n",
       "#sk-container-id-1 div.sk-parallel {\n",
       "  display: flex;\n",
       "  align-items: stretch;\n",
       "  justify-content: center;\n",
       "  background-color: var(--sklearn-color-background);\n",
       "  position: relative;\n",
       "}\n",
       "\n",
       "#sk-container-id-1 div.sk-parallel-item {\n",
       "  display: flex;\n",
       "  flex-direction: column;\n",
       "}\n",
       "\n",
       "#sk-container-id-1 div.sk-parallel-item:first-child::after {\n",
       "  align-self: flex-end;\n",
       "  width: 50%;\n",
       "}\n",
       "\n",
       "#sk-container-id-1 div.sk-parallel-item:last-child::after {\n",
       "  align-self: flex-start;\n",
       "  width: 50%;\n",
       "}\n",
       "\n",
       "#sk-container-id-1 div.sk-parallel-item:only-child::after {\n",
       "  width: 0;\n",
       "}\n",
       "\n",
       "/* Serial-specific style estimator block */\n",
       "\n",
       "#sk-container-id-1 div.sk-serial {\n",
       "  display: flex;\n",
       "  flex-direction: column;\n",
       "  align-items: center;\n",
       "  background-color: var(--sklearn-color-background);\n",
       "  padding-right: 1em;\n",
       "  padding-left: 1em;\n",
       "}\n",
       "\n",
       "\n",
       "/* Toggleable style: style used for estimator/Pipeline/ColumnTransformer box that is\n",
       "clickable and can be expanded/collapsed.\n",
       "- Pipeline and ColumnTransformer use this feature and define the default style\n",
       "- Estimators will overwrite some part of the style using the `sk-estimator` class\n",
       "*/\n",
       "\n",
       "/* Pipeline and ColumnTransformer style (default) */\n",
       "\n",
       "#sk-container-id-1 div.sk-toggleable {\n",
       "  /* Default theme specific background. It is overwritten whether we have a\n",
       "  specific estimator or a Pipeline/ColumnTransformer */\n",
       "  background-color: var(--sklearn-color-background);\n",
       "}\n",
       "\n",
       "/* Toggleable label */\n",
       "#sk-container-id-1 label.sk-toggleable__label {\n",
       "  cursor: pointer;\n",
       "  display: block;\n",
       "  width: 100%;\n",
       "  margin-bottom: 0;\n",
       "  padding: 0.5em;\n",
       "  box-sizing: border-box;\n",
       "  text-align: center;\n",
       "}\n",
       "\n",
       "#sk-container-id-1 label.sk-toggleable__label-arrow:before {\n",
       "  /* Arrow on the left of the label */\n",
       "  content: \"▸\";\n",
       "  float: left;\n",
       "  margin-right: 0.25em;\n",
       "  color: var(--sklearn-color-icon);\n",
       "}\n",
       "\n",
       "#sk-container-id-1 label.sk-toggleable__label-arrow:hover:before {\n",
       "  color: var(--sklearn-color-text);\n",
       "}\n",
       "\n",
       "/* Toggleable content - dropdown */\n",
       "\n",
       "#sk-container-id-1 div.sk-toggleable__content {\n",
       "  max-height: 0;\n",
       "  max-width: 0;\n",
       "  overflow: hidden;\n",
       "  text-align: left;\n",
       "  /* unfitted */\n",
       "  background-color: var(--sklearn-color-unfitted-level-0);\n",
       "}\n",
       "\n",
       "#sk-container-id-1 div.sk-toggleable__content.fitted {\n",
       "  /* fitted */\n",
       "  background-color: var(--sklearn-color-fitted-level-0);\n",
       "}\n",
       "\n",
       "#sk-container-id-1 div.sk-toggleable__content pre {\n",
       "  margin: 0.2em;\n",
       "  border-radius: 0.25em;\n",
       "  color: var(--sklearn-color-text);\n",
       "  /* unfitted */\n",
       "  background-color: var(--sklearn-color-unfitted-level-0);\n",
       "}\n",
       "\n",
       "#sk-container-id-1 div.sk-toggleable__content.fitted pre {\n",
       "  /* unfitted */\n",
       "  background-color: var(--sklearn-color-fitted-level-0);\n",
       "}\n",
       "\n",
       "#sk-container-id-1 input.sk-toggleable__control:checked~div.sk-toggleable__content {\n",
       "  /* Expand drop-down */\n",
       "  max-height: 200px;\n",
       "  max-width: 100%;\n",
       "  overflow: auto;\n",
       "}\n",
       "\n",
       "#sk-container-id-1 input.sk-toggleable__control:checked~label.sk-toggleable__label-arrow:before {\n",
       "  content: \"▾\";\n",
       "}\n",
       "\n",
       "/* Pipeline/ColumnTransformer-specific style */\n",
       "\n",
       "#sk-container-id-1 div.sk-label input.sk-toggleable__control:checked~label.sk-toggleable__label {\n",
       "  color: var(--sklearn-color-text);\n",
       "  background-color: var(--sklearn-color-unfitted-level-2);\n",
       "}\n",
       "\n",
       "#sk-container-id-1 div.sk-label.fitted input.sk-toggleable__control:checked~label.sk-toggleable__label {\n",
       "  background-color: var(--sklearn-color-fitted-level-2);\n",
       "}\n",
       "\n",
       "/* Estimator-specific style */\n",
       "\n",
       "/* Colorize estimator box */\n",
       "#sk-container-id-1 div.sk-estimator input.sk-toggleable__control:checked~label.sk-toggleable__label {\n",
       "  /* unfitted */\n",
       "  background-color: var(--sklearn-color-unfitted-level-2);\n",
       "}\n",
       "\n",
       "#sk-container-id-1 div.sk-estimator.fitted input.sk-toggleable__control:checked~label.sk-toggleable__label {\n",
       "  /* fitted */\n",
       "  background-color: var(--sklearn-color-fitted-level-2);\n",
       "}\n",
       "\n",
       "#sk-container-id-1 div.sk-label label.sk-toggleable__label,\n",
       "#sk-container-id-1 div.sk-label label {\n",
       "  /* The background is the default theme color */\n",
       "  color: var(--sklearn-color-text-on-default-background);\n",
       "}\n",
       "\n",
       "/* On hover, darken the color of the background */\n",
       "#sk-container-id-1 div.sk-label:hover label.sk-toggleable__label {\n",
       "  color: var(--sklearn-color-text);\n",
       "  background-color: var(--sklearn-color-unfitted-level-2);\n",
       "}\n",
       "\n",
       "/* Label box, darken color on hover, fitted */\n",
       "#sk-container-id-1 div.sk-label.fitted:hover label.sk-toggleable__label.fitted {\n",
       "  color: var(--sklearn-color-text);\n",
       "  background-color: var(--sklearn-color-fitted-level-2);\n",
       "}\n",
       "\n",
       "/* Estimator label */\n",
       "\n",
       "#sk-container-id-1 div.sk-label label {\n",
       "  font-family: monospace;\n",
       "  font-weight: bold;\n",
       "  display: inline-block;\n",
       "  line-height: 1.2em;\n",
       "}\n",
       "\n",
       "#sk-container-id-1 div.sk-label-container {\n",
       "  text-align: center;\n",
       "}\n",
       "\n",
       "/* Estimator-specific */\n",
       "#sk-container-id-1 div.sk-estimator {\n",
       "  font-family: monospace;\n",
       "  border: 1px dotted var(--sklearn-color-border-box);\n",
       "  border-radius: 0.25em;\n",
       "  box-sizing: border-box;\n",
       "  margin-bottom: 0.5em;\n",
       "  /* unfitted */\n",
       "  background-color: var(--sklearn-color-unfitted-level-0);\n",
       "}\n",
       "\n",
       "#sk-container-id-1 div.sk-estimator.fitted {\n",
       "  /* fitted */\n",
       "  background-color: var(--sklearn-color-fitted-level-0);\n",
       "}\n",
       "\n",
       "/* on hover */\n",
       "#sk-container-id-1 div.sk-estimator:hover {\n",
       "  /* unfitted */\n",
       "  background-color: var(--sklearn-color-unfitted-level-2);\n",
       "}\n",
       "\n",
       "#sk-container-id-1 div.sk-estimator.fitted:hover {\n",
       "  /* fitted */\n",
       "  background-color: var(--sklearn-color-fitted-level-2);\n",
       "}\n",
       "\n",
       "/* Specification for estimator info (e.g. \"i\" and \"?\") */\n",
       "\n",
       "/* Common style for \"i\" and \"?\" */\n",
       "\n",
       ".sk-estimator-doc-link,\n",
       "a:link.sk-estimator-doc-link,\n",
       "a:visited.sk-estimator-doc-link {\n",
       "  float: right;\n",
       "  font-size: smaller;\n",
       "  line-height: 1em;\n",
       "  font-family: monospace;\n",
       "  background-color: var(--sklearn-color-background);\n",
       "  border-radius: 1em;\n",
       "  height: 1em;\n",
       "  width: 1em;\n",
       "  text-decoration: none !important;\n",
       "  margin-left: 1ex;\n",
       "  /* unfitted */\n",
       "  border: var(--sklearn-color-unfitted-level-1) 1pt solid;\n",
       "  color: var(--sklearn-color-unfitted-level-1);\n",
       "}\n",
       "\n",
       ".sk-estimator-doc-link.fitted,\n",
       "a:link.sk-estimator-doc-link.fitted,\n",
       "a:visited.sk-estimator-doc-link.fitted {\n",
       "  /* fitted */\n",
       "  border: var(--sklearn-color-fitted-level-1) 1pt solid;\n",
       "  color: var(--sklearn-color-fitted-level-1);\n",
       "}\n",
       "\n",
       "/* On hover */\n",
       "div.sk-estimator:hover .sk-estimator-doc-link:hover,\n",
       ".sk-estimator-doc-link:hover,\n",
       "div.sk-label-container:hover .sk-estimator-doc-link:hover,\n",
       ".sk-estimator-doc-link:hover {\n",
       "  /* unfitted */\n",
       "  background-color: var(--sklearn-color-unfitted-level-3);\n",
       "  color: var(--sklearn-color-background);\n",
       "  text-decoration: none;\n",
       "}\n",
       "\n",
       "div.sk-estimator.fitted:hover .sk-estimator-doc-link.fitted:hover,\n",
       ".sk-estimator-doc-link.fitted:hover,\n",
       "div.sk-label-container:hover .sk-estimator-doc-link.fitted:hover,\n",
       ".sk-estimator-doc-link.fitted:hover {\n",
       "  /* fitted */\n",
       "  background-color: var(--sklearn-color-fitted-level-3);\n",
       "  color: var(--sklearn-color-background);\n",
       "  text-decoration: none;\n",
       "}\n",
       "\n",
       "/* Span, style for the box shown on hovering the info icon */\n",
       ".sk-estimator-doc-link span {\n",
       "  display: none;\n",
       "  z-index: 9999;\n",
       "  position: relative;\n",
       "  font-weight: normal;\n",
       "  right: .2ex;\n",
       "  padding: .5ex;\n",
       "  margin: .5ex;\n",
       "  width: min-content;\n",
       "  min-width: 20ex;\n",
       "  max-width: 50ex;\n",
       "  color: var(--sklearn-color-text);\n",
       "  box-shadow: 2pt 2pt 4pt #999;\n",
       "  /* unfitted */\n",
       "  background: var(--sklearn-color-unfitted-level-0);\n",
       "  border: .5pt solid var(--sklearn-color-unfitted-level-3);\n",
       "}\n",
       "\n",
       ".sk-estimator-doc-link.fitted span {\n",
       "  /* fitted */\n",
       "  background: var(--sklearn-color-fitted-level-0);\n",
       "  border: var(--sklearn-color-fitted-level-3);\n",
       "}\n",
       "\n",
       ".sk-estimator-doc-link:hover span {\n",
       "  display: block;\n",
       "}\n",
       "\n",
       "/* \"?\"-specific style due to the `<a>` HTML tag */\n",
       "\n",
       "#sk-container-id-1 a.estimator_doc_link {\n",
       "  float: right;\n",
       "  font-size: 1rem;\n",
       "  line-height: 1em;\n",
       "  font-family: monospace;\n",
       "  background-color: var(--sklearn-color-background);\n",
       "  border-radius: 1rem;\n",
       "  height: 1rem;\n",
       "  width: 1rem;\n",
       "  text-decoration: none;\n",
       "  /* unfitted */\n",
       "  color: var(--sklearn-color-unfitted-level-1);\n",
       "  border: var(--sklearn-color-unfitted-level-1) 1pt solid;\n",
       "}\n",
       "\n",
       "#sk-container-id-1 a.estimator_doc_link.fitted {\n",
       "  /* fitted */\n",
       "  border: var(--sklearn-color-fitted-level-1) 1pt solid;\n",
       "  color: var(--sklearn-color-fitted-level-1);\n",
       "}\n",
       "\n",
       "/* On hover */\n",
       "#sk-container-id-1 a.estimator_doc_link:hover {\n",
       "  /* unfitted */\n",
       "  background-color: var(--sklearn-color-unfitted-level-3);\n",
       "  color: var(--sklearn-color-background);\n",
       "  text-decoration: none;\n",
       "}\n",
       "\n",
       "#sk-container-id-1 a.estimator_doc_link.fitted:hover {\n",
       "  /* fitted */\n",
       "  background-color: var(--sklearn-color-fitted-level-3);\n",
       "}\n",
       "</style><div id=\"sk-container-id-1\" class=\"sk-top-container\"><div class=\"sk-text-repr-fallback\"><pre>NearestNeighbors(metric=&#x27;cosine&#x27;, n_jobs=-1, n_neighbors=7)</pre><b>In a Jupyter environment, please rerun this cell to show the HTML representation or trust the notebook. <br />On GitHub, the HTML representation is unable to render, please try loading this page with nbviewer.org.</b></div><div class=\"sk-container\" hidden><div class=\"sk-item\"><div class=\"sk-estimator fitted sk-toggleable\"><input class=\"sk-toggleable__control sk-hidden--visually\" id=\"sk-estimator-id-1\" type=\"checkbox\" checked><label for=\"sk-estimator-id-1\" class=\"sk-toggleable__label fitted sk-toggleable__label-arrow fitted\">&nbsp;&nbsp;NearestNeighbors<a class=\"sk-estimator-doc-link fitted\" rel=\"noreferrer\" target=\"_blank\" href=\"https://scikit-learn.org/1.4/modules/generated/sklearn.neighbors.NearestNeighbors.html\">?<span>Documentation for NearestNeighbors</span></a><span class=\"sk-estimator-doc-link fitted\">i<span>Fitted</span></span></label><div class=\"sk-toggleable__content fitted\"><pre>NearestNeighbors(metric=&#x27;cosine&#x27;, n_jobs=-1, n_neighbors=7)</pre></div> </div></div></div></div>"
      ],
      "text/plain": [
       "NearestNeighbors(metric='cosine', n_jobs=-1, n_neighbors=7)"
      ]
     },
     "execution_count": 23,
     "metadata": {},
     "output_type": "execute_result"
    }
   ],
   "source": [
    "model=NearestNeighbors(n_neighbors=7, metric='cosine', n_jobs=-1)\n",
    "model.fit(vector)"
   ]
  },
  {
   "cell_type": "markdown",
   "id": "81f15655-7b55-4cc4-9711-01a8ffe46f8f",
   "metadata": {
    "id": "81f15655-7b55-4cc4-9711-01a8ffe46f8f"
   },
   "source": [
    "**Saving the model**"
   ]
  },
  {
   "cell_type": "code",
   "execution_count": 31,
   "id": "ead0e9f8-eb07-4113-9d05-b5d272764f78",
   "metadata": {
    "id": "ead0e9f8-eb07-4113-9d05-b5d272764f78"
   },
   "outputs": [],
   "source": [
    "dump(model, open(\"/workspaces/final_project/models/knn_neighbors_books.sav\", \"wb\"))"
   ]
  },
  {
   "cell_type": "markdown",
   "id": "4a46e96c-6f70-40fb-9552-8196ebdc90d0",
   "metadata": {
    "id": "4a46e96c-6f70-40fb-9552-8196ebdc90d0"
   },
   "source": [
    "**Making a recommendation**"
   ]
  },
  {
   "cell_type": "code",
   "execution_count": 32,
   "id": "bc8bec94-4d40-4911-8df0-76bfc4bc2e00",
   "metadata": {
    "id": "bc8bec94-4d40-4911-8df0-76bfc4bc2e00"
   },
   "outputs": [],
   "source": [
    "model = load(open(\"../models/knn_neighbors_books.sav\", \"rb\"))"
   ]
  },
  {
   "cell_type": "code",
   "execution_count": 33,
   "id": "4aa57066-aab7-43b3-bc09-b54511b50df1",
   "metadata": {
    "id": "4aa57066-aab7-43b3-bc09-b54511b50df1"
   },
   "outputs": [],
   "source": [
    "def rec(book, df_rec, model):\n",
    "    recs=[]\n",
    "    book = preprocess_text(book)\n",
    "    book_index = df_rec[df_rec['Title'] == book].index[0]\n",
    "    distances, indices = model.kneighbors(vector[book_index], n_neighbors=12)\n",
    "    similar_books = [(df_rec['Title'][i], distances[0][j]) for j, i in enumerate(indices[0])]\n",
    "    for m in range(len(similar_books)-1):\n",
    "        recs.append((similar_books[1:][m][0]).capitalize())\n",
    "    recs = [b for b in recs if preprocess_text(b) != book]\n",
    "    if recs == []:\n",
    "        return f\"Book '{book}' not found in the dataset.\"\n",
    "    else:\n",
    "        return list(set(recs))[0:5]        "
   ]
  },
  {
   "cell_type": "code",
   "execution_count": 34,
   "id": "bea8d61a-effb-4e9c-9d56-4cedf9f6a60c",
   "metadata": {
    "id": "bea8d61a-effb-4e9c-9d56-4cedf9f6a60c"
   },
   "outputs": [
    {
     "name": "stdout",
     "output_type": "stream",
     "text": [
      "Polar star\n",
      "A breath of snow and ashes outlander\n",
      "The poisonwood bible a novel\n",
      "Mere christianity\n",
      "The cross and the switchblade\n"
     ]
    }
   ],
   "source": [
    "for book in rec(\"run baby run\", df_rec, model):\n",
    "    print(book)"
   ]
  }
 ],
 "metadata": {
  "colab": {
   "provenance": []
  },
  "kernelspec": {
   "display_name": "Python 3 (ipykernel)",
   "language": "python",
   "name": "python3"
  },
  "language_info": {
   "codemirror_mode": {
    "name": "ipython",
    "version": 3
   },
   "file_extension": ".py",
   "mimetype": "text/x-python",
   "name": "python",
   "nbconvert_exporter": "python",
   "pygments_lexer": "ipython3",
   "version": "3.11.4"
  }
 },
 "nbformat": 4,
 "nbformat_minor": 5
}

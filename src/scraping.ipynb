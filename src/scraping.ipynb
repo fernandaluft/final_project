{
  "cells": [
    {
      "cell_type": "markdown",
      "metadata": {
        "id": "xMhx7e7SlWrh"
      },
      "source": [
        "## Scraping Module"
      ]
    },
    {
      "cell_type": "code",
      "execution_count": null,
      "metadata": {
        "id": "-AFiKFRxlWrk"
      },
      "outputs": [],
      "source": [
        "import os\n",
        "\n",
        "class Scraping:\n",
        "    def __init__(self, IN_COLAB):\n",
        "        if IN_COLAB is True:\n",
        "          self.base_path = \"/content/\"\n",
        "        else:\n",
        "          self.base_path = \"/workspaces/\"\n",
        "\n",
        "        # Create the directory if it doesn't exist\n",
        "        kaggle_dir = os.path.expanduser('~/.kaggle')\n",
        "        os.makedirs(kaggle_dir, exist_ok=True)\n",
        "\n",
        "        # Copy kaggle.json to the directory\n",
        "        kaggle_json_src = self.base_path + 'final_project/config/kaggle.json'\n",
        "        kaggle_json_dst = os.path.join(kaggle_dir, 'kaggle.json')\n",
        "        os.system(f'cp {kaggle_json_src} {kaggle_json_dst}')\n",
        "\n",
        "        # Set permissions for kaggle.json\n",
        "        os.system(f'chmod 600 {kaggle_json_dst}')\n",
        "\n",
        "        # Import the kaggle module\n",
        "        import kaggle\n",
        "\n",
        "    def kaggle_scrape(self):\n",
        "        # Download the dataset using the kaggle CLI\n",
        "        os.system('kaggle datasets download -d mohamedbakhet/amazon-books-reviews')\n",
        "\n",
        "        # Unzip the downloaded file\n",
        "        os.system(f'unzip -q {self.base_path}/amazon-books-reviews.zip -d {self.base_path}final_project/data')\n",
        "        os.system(f'rm {self.base_path}/amazon-books-reviews.zip')"
      ]
    },
    {
      "cell_type": "code",
      "execution_count": null,
      "metadata": {
        "id": "-3iiKH5slWrl"
      },
      "outputs": [],
      "source": [
        "  scraping = Scraping(False)\n",
        "  scraping.kaggle_scrape()"
      ]
    }
  ],
  "metadata": {
    "kernelspec": {
      "display_name": "Python 3.8.13 64-bit ('3.8.13')",
      "language": "python",
      "name": "python3"
    },
    "language_info": {
      "codemirror_mode": {
        "name": "ipython",
        "version": 3
      },
      "file_extension": ".py",
      "mimetype": "text/x-python",
      "name": "python",
      "nbconvert_exporter": "python",
      "pygments_lexer": "ipython3",
      "version": "3.11.4"
    },
    "orig_nbformat": 4,
    "vscode": {
      "interpreter": {
        "hash": "110cc1dee26208153f2972f08a2ad52b6a56238dc66d48e87fb757ef2996db56"
      }
    },
    "colab": {
      "provenance": []
    }
  },
  "nbformat": 4,
  "nbformat_minor": 0
}
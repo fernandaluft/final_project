{
    "cells": [
        {
            "cell_type": "markdown",
            "metadata": {},
            "source": [
                "## Scraping Module"
            ]
        },
        {
            "cell_type": "code",
            "execution_count": 20,
            "metadata": {},
            "outputs": [],
            "source": [
                "class Scraping:\n",
                "    def __init__(self):\n",
                "        !mkdir -p ~/.kaggle\n",
                "        !cp ../config/kaggle.json ~/.kaggle/\n",
                "        !chmod 600 ~/.kaggle/kaggle.json\n",
                "        import kaggle\n",
                "\n",
                "    def kaggle_scrape(self):\n",
                "        !kaggle datasets download -d mohamedbakhet/amazon-books-reviews\n",
                "        !mv /workspaces/final_project/src/amazon-books-reviews.zip /workspaces/final_project/data/\n",
                "        !unzip -q /workspaces/final_project/data/amazon-books-reviews.zip -d /workspaces/final_project/data\n",
                "        "
            ]
        },
        {
            "cell_type": "code",
            "execution_count": 21,
            "metadata": {},
            "outputs": [],
            "source": [
                "scraping = Scraping()\n",
                "scraping.kaggle_scrape()"
            ]
        }
    ],
    "metadata": {
        "kernelspec": {
            "display_name": "Python 3.8.13 64-bit ('3.8.13')",
            "language": "python",
            "name": "python3"
        },
        "language_info": {
            "codemirror_mode": {
                "name": "ipython",
                "version": 3
            },
            "file_extension": ".py",
            "mimetype": "text/x-python",
            "name": "python",
            "nbconvert_exporter": "python",
            "pygments_lexer": "ipython3",
            "version": "3.11.4"
        },
        "orig_nbformat": 4,
        "vscode": {
            "interpreter": {
                "hash": "110cc1dee26208153f2972f08a2ad52b6a56238dc66d48e87fb757ef2996db56"
            }
        }
    },
    "nbformat": 4,
    "nbformat_minor": 2
}

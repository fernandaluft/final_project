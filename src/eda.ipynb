{
  "cells": [
    {
      "cell_type": "code",
      "source": [
        "import os\n",
        "from pathlib import Path\n",
        "# Check if the code is running on Google Colab\n",
        "try:\n",
        "    import google.colab\n",
        "    IN_COLAB = True\n",
        "    base_path = \"/content/\"\n",
        "    if Path(f\"{base_path}final_project\").is_dir():\n",
        "      %cd {base_path}final_project\n",
        "      !git pull\n",
        "      %cd {base_path}\n",
        "    else:\n",
        "      !git clone https://github.com/fernandaluft/final_project.git\n",
        "except ImportError:\n",
        "    IN_COLAB = False\n",
        "    base_path = \"/workspaces/\""
      ],
      "metadata": {
        "colab": {
          "base_uri": "https://localhost:8080/"
        },
        "id": "CifM0L09jcsh",
        "outputId": "6e95e409-820a-4ca1-a717-a0cfc87b4544"
      },
      "execution_count": 1,
      "outputs": [
        {
          "output_type": "stream",
          "name": "stdout",
          "text": [
            "Cloning into 'final_project'...\n",
            "remote: Enumerating objects: 63, done.\u001b[K\n",
            "remote: Counting objects: 100% (63/63), done.\u001b[K\n",
            "remote: Compressing objects: 100% (41/41), done.\u001b[K\n",
            "remote: Total 63 (delta 27), reused 47 (delta 14), pack-reused 0\u001b[K\n",
            "Receiving objects: 100% (63/63), 18.13 KiB | 3.63 MiB/s, done.\n",
            "Resolving deltas: 100% (27/27), done.\n"
          ]
        }
      ]
    },
    {
      "cell_type": "code",
      "execution_count": 2,
      "metadata": {
        "id": "RWE8jndNjVYM"
      },
      "outputs": [],
      "source": [
        "import pandas as pd\n",
        "import numpy as np\n",
        "import matplotlib.pyplot as plt\n",
        "import seaborn as sns\n",
        "from final_project.src.scraping import Scraping"
      ]
    },
    {
      "cell_type": "code",
      "execution_count": 3,
      "metadata": {
        "id": "Pmx0u6u4jVYQ"
      },
      "outputs": [],
      "source": [
        "if IN_COLAB==True:\n",
        "  scraping = Scraping(IN_COLAB)\n",
        "  scraping.kaggle_scrape()"
      ]
    },
    {
      "cell_type": "code",
      "execution_count": 4,
      "metadata": {
        "id": "ahjJZTeRjVYR"
      },
      "outputs": [],
      "source": [
        "limit = 200000"
      ]
    },
    {
      "cell_type": "code",
      "execution_count": 5,
      "metadata": {
        "id": "VvKweH2qjVYS"
      },
      "outputs": [],
      "source": [
        "class Eda():\n",
        "    def __init__(self, limit):\n",
        "        if limit != None:\n",
        "            self.df1 = pd.read_csv(f'{base_path}final_project/data/books_data.csv').sample(limit)\n",
        "            self.df2 = pd.read_csv(f'{base_path}final_project/data/Books_rating.csv').sample(limit)\n",
        "        else:\n",
        "            self.df1 = pd.read_csv(f'{base_path}final_project/data/books_data.csv')\n",
        "            self.df2 = pd.read_csv(f'{base_path}final_project/data/Books_rating.csv')\n",
        "\n",
        "    def merge_datasets(self):\n",
        "        self.books_df = self.df1.merge(self.df2, left_on='Title', right_on='Title', how='inner')\n",
        "        os.makedirs(f'{base_path}final_project/preprocessed_data', exist_ok=True)\n",
        "        self.books_df.to_csv(f\"{base_path}final_project/preprocessed_data/books_reviews.csv\", index=False)\n",
        "        return self.books_df\n",
        "\n",
        "    def print_info(self):\n",
        "        print(self.books_df.info())\n",
        "        print(self.books_df.head())"
      ]
    },
    {
      "cell_type": "code",
      "execution_count": 6,
      "metadata": {
        "colab": {
          "base_uri": "https://localhost:8080/"
        },
        "id": "_Zxk58cRjVYT",
        "outputId": "79ac5cdf-cce4-472b-b509-261d17105af4"
      },
      "outputs": [
        {
          "output_type": "stream",
          "name": "stdout",
          "text": [
            "<class 'pandas.core.frame.DataFrame'>\n",
            "Int64Index: 186826 entries, 0 to 186825\n",
            "Data columns (total 19 columns):\n",
            " #   Column              Non-Null Count   Dtype  \n",
            "---  ------              --------------   -----  \n",
            " 0   Title               186808 non-null  object \n",
            " 1   description         146832 non-null  object \n",
            " 2   authors             162306 non-null  object \n",
            " 3   image               153188 non-null  object \n",
            " 4   previewLink         166149 non-null  object \n",
            " 5   publisher           137687 non-null  object \n",
            " 6   publishedDate       164580 non-null  object \n",
            " 7   infoLink            166149 non-null  object \n",
            " 8   categories          152304 non-null  object \n",
            " 9   ratingsCount        101403 non-null  float64\n",
            " 10  Id                  186826 non-null  object \n",
            " 11  Price               30097 non-null   float64\n",
            " 12  User_id             151733 non-null  object \n",
            " 13  profileName         151730 non-null  object \n",
            " 14  review/helpfulness  186826 non-null  object \n",
            " 15  review/score        186826 non-null  float64\n",
            " 16  review/time         186826 non-null  int64  \n",
            " 17  review/summary      186824 non-null  object \n",
            " 18  review/text         186826 non-null  object \n",
            "dtypes: float64(3), int64(1), object(15)\n",
            "memory usage: 28.5+ MB\n",
            "None\n",
            "                                               Title  \\\n",
            "0                             The History of Physics   \n",
            "1                             The History of Physics   \n",
            "2    Encyclopedia of Political Economy: 2-volume set   \n",
            "3              Breaking and training the stock horse   \n",
            "4  Homer (Blackwell Introductions to the Classica...   \n",
            "\n",
            "                                         description  \\\n",
            "0  At the end of the nineteenth century, some phy...   \n",
            "1  At the end of the nineteenth century, some phy...   \n",
            "2  This groundbreaking Encyclopedia is the very f...   \n",
            "3                                                NaN   \n",
            "4  This concise book is a complete and contempora...   \n",
            "\n",
            "                     authors  \\\n",
            "0            ['Helge Kragh']   \n",
            "1            ['Helge Kragh']   \n",
            "2         [\"Phillip O'Hara\"]   \n",
            "3  ['Charles O. Williamson']   \n",
            "4        ['Barry B. Powell']   \n",
            "\n",
            "                                               image  \\\n",
            "0  http://books.google.com/books/content?id=zW3dD...   \n",
            "1  http://books.google.com/books/content?id=zW3dD...   \n",
            "2  http://books.google.com/books/content?id=BoiFA...   \n",
            "3                                                NaN   \n",
            "4  http://books.google.com/books/content?id=4mm0I...   \n",
            "\n",
            "                                         previewLink  \\\n",
            "0  http://books.google.com/books?id=zW3dDwAAQBAJ&...   \n",
            "1  http://books.google.com/books?id=zW3dDwAAQBAJ&...   \n",
            "2  http://books.google.com/books?id=BoiFAgAAQBAJ&...   \n",
            "3  http://books.google.nl/books?id=3y2mKQEACAAJ&d...   \n",
            "4  http://books.google.com/books?id=4mm0I7QHOdcC&...   \n",
            "\n",
            "                    publisher publishedDate  \\\n",
            "0  Princeton University Press    2020-06-23   \n",
            "1  Princeton University Press    2020-06-23   \n",
            "2                   Routledge    1999-02-04   \n",
            "3                Horsemanship          1968   \n",
            "4             Wiley-Blackwell    2007-04-30   \n",
            "\n",
            "                                            infoLink  \\\n",
            "0  https://play.google.com/store/books/details?id...   \n",
            "1  https://play.google.com/store/books/details?id...   \n",
            "2  http://books.google.com/books?id=BoiFAgAAQBAJ&...   \n",
            "3  http://books.google.nl/books?id=3y2mKQEACAAJ&d...   \n",
            "4  http://books.google.com/books?id=4mm0I7QHOdcC&...   \n",
            "\n",
            "                 categories  ratingsCount          Id  Price         User_id  \\\n",
            "0               ['Science']           NaN  B000MY2UMA    NaN  A1Z9MCS6AJW8L2   \n",
            "1               ['Science']           NaN  B000MY2UMA    NaN  A3CLUIYGGD44IR   \n",
            "2  ['Business & Economics']           NaN  041524188X    NaN   A2NFF3S489YQY   \n",
            "3          ['Horsemanship']           NaN  B0006YVDM4    NaN   ABQJ3D0G3H7S6   \n",
            "4    ['Literary Criticism']           NaN  0631233857    NaN  A1ME0NJPB6B1FR   \n",
            "\n",
            "          profileName review/helpfulness  review/score  review/time  \\\n",
            "0           physdanny                0/3           3.0   1312243200   \n",
            "1      John McConnell                4/4           4.0   1283212800   \n",
            "2      Andrew Brennan                3/4           5.0   1128038400   \n",
            "3  mycarsmi@netcom.ca                5/5           5.0    872380800   \n",
            "4             Barbara                0/0           5.0   1315958400   \n",
            "\n",
            "                                      review/summary  \\\n",
            "0                             the history of physics   \n",
            "1                    Outstanding review and overview   \n",
            "2  An Outstanding Reference Source on Political E...   \n",
            "3  &quot;The&quot; most practical and concise hor...   \n",
            "4                                   Superb Philology   \n",
            "\n",
            "                                         review/text  \n",
            "0  I donno I feel like asimov really missed in th...  \n",
            "1  As usual, Asimov delivers an excellent read.Th...  \n",
            "2  Nowadays, a vast amount of complex information...  \n",
            "3  We always had horses as kids when growing up i...  \n",
            "4  I found this book via Google Books. This is th...  \n"
          ]
        }
      ],
      "source": [
        "eda = Eda(limit)\n",
        "books_df = eda.merge_datasets()\n",
        "eda.print_info()"
      ]
    },
    {
      "cell_type": "code",
      "source": [
        "len(books_df)"
      ],
      "metadata": {
        "colab": {
          "base_uri": "https://localhost:8080/"
        },
        "id": "G35ixNEHiOPy",
        "outputId": "c91eb200-ce5a-4801-d4f0-16b23f44030b"
      },
      "execution_count": 7,
      "outputs": [
        {
          "output_type": "execute_result",
          "data": {
            "text/plain": [
              "186826"
            ]
          },
          "metadata": {},
          "execution_count": 7
        }
      ]
    },
    {
      "cell_type": "code",
      "source": [
        "%cd {base_path}final_project\n",
        "#!git config --global user.name \"fernandaluft\"\n",
        "#!git config --global user.email \"fernandaluft@gmail.com\"\n",
        "!git config --global user.name \"neural1977\"\n",
        "!git config --global user.email \"pugliese05@gmail.com\"\n",
        "!git add .\n",
        "!git commit -m \"New Final Project\"\n"
      ],
      "metadata": {
        "colab": {
          "base_uri": "https://localhost:8080/"
        },
        "id": "6UrEmH-9vPf7",
        "outputId": "4cf94491-a994-4983-d28a-02f5f5f826c0"
      },
      "execution_count": 8,
      "outputs": [
        {
          "output_type": "stream",
          "name": "stdout",
          "text": [
            "/content/final_project\n",
            "[main 232a3b3] New Final Project\n",
            " 1 file changed, 186827 insertions(+)\n",
            " create mode 100644 preprocessed_data/books_reviews.csv\n"
          ]
        }
      ]
    },
    {
      "cell_type": "code",
      "source": [
        "!git push origin main"
      ],
      "metadata": {
        "colab": {
          "base_uri": "https://localhost:8080/"
        },
        "id": "BaT9ha6vdGEl",
        "outputId": "2fb63372-e8ea-481f-e13c-f43b215698dd"
      },
      "execution_count": 9,
      "outputs": [
        {
          "output_type": "stream",
          "name": "stdout",
          "text": [
            "fatal: could not read Username for 'https://github.com': No such device or address\n"
          ]
        }
      ]
    }
  ],
  "metadata": {
    "kernelspec": {
      "display_name": "Python 3",
      "name": "python3"
    },
    "language_info": {
      "codemirror_mode": {
        "name": "ipython",
        "version": 3
      },
      "file_extension": ".py",
      "mimetype": "text/x-python",
      "name": "python",
      "nbconvert_exporter": "python",
      "pygments_lexer": "ipython3",
      "version": "3.11.4"
    },
    "colab": {
      "provenance": [],
      "machine_shape": "hm"
    }
  },
  "nbformat": 4,
  "nbformat_minor": 0
}
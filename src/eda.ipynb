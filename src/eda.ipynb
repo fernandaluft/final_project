{
  "cells": [
    {
      "cell_type": "code",
      "source": [
        "import os\n",
        "from pathlib import Path\n",
        "# Check if the code is running on Google Colab\n",
        "try:\n",
        "    import google.colab\n",
        "    IN_COLAB = True\n",
        "    base_path = \"/content/\"\n",
        "    if Path(f\"{base_path}final_project\").is_dir():\n",
        "      %cd {base_path}final_project\n",
        "      !git pull\n",
        "      %cd {base_path}\n",
        "    else:\n",
        "      !git clone https://github.com/fernandaluft/final_project.git\n",
        "except ImportError:\n",
        "    IN_COLAB = False\n",
        "    base_path = \"/workspaces/\""
      ],
      "metadata": {
        "colab": {
          "base_uri": "https://localhost:8080/"
        },
        "id": "CifM0L09jcsh",
        "outputId": "74810d65-232e-4bdd-c387-590e67f1b6a9"
      },
      "execution_count": 1,
      "outputs": [
        {
          "output_type": "stream",
          "name": "stdout",
          "text": [
            "Cloning into 'final_project'...\n",
            "remote: Enumerating objects: 55, done.\u001b[K\n",
            "remote: Counting objects: 100% (55/55), done.\u001b[K\n",
            "remote: Compressing objects: 100% (36/36), done.\u001b[K\n",
            "remote: Total 55 (delta 22), reused 41 (delta 11), pack-reused 0\u001b[K\n",
            "Receiving objects: 100% (55/55), 12.53 KiB | 12.53 MiB/s, done.\n",
            "Resolving deltas: 100% (22/22), done.\n"
          ]
        }
      ]
    },
    {
      "cell_type": "code",
      "execution_count": 2,
      "metadata": {
        "id": "RWE8jndNjVYM"
      },
      "outputs": [],
      "source": [
        "import pandas as pd\n",
        "import numpy as np\n",
        "import matplotlib.pyplot as plt\n",
        "import seaborn as sns\n",
        "from final_project.src.scraping import Scraping"
      ]
    },
    {
      "cell_type": "code",
      "execution_count": 3,
      "metadata": {
        "id": "Pmx0u6u4jVYQ"
      },
      "outputs": [],
      "source": [
        "if IN_COLAB==True:\n",
        "  scraping = Scraping(IN_COLAB)\n",
        "  scraping.kaggle_scrape()"
      ]
    },
    {
      "cell_type": "code",
      "execution_count": 4,
      "metadata": {
        "id": "ahjJZTeRjVYR"
      },
      "outputs": [],
      "source": [
        "limit = 5000"
      ]
    },
    {
      "cell_type": "code",
      "execution_count": 11,
      "metadata": {
        "id": "VvKweH2qjVYS"
      },
      "outputs": [],
      "source": [
        "class Eda():\n",
        "    def __init__(self, limit):\n",
        "        if limit != None:\n",
        "            self.df1 = pd.read_csv(f'{base_path}final_project/data/books_data.csv').sample(limit)\n",
        "            self.df2 = pd.read_csv(f'{base_path}final_project/data/Books_rating.csv').sample(limit)\n",
        "        else:\n",
        "            self.df1 = pd.read_csv(f'{base_path}final_project/data/books_data.csv')\n",
        "            self.df2 = pd.read_csv(f'{base_path}final_project/data/Books_rating.csv')\n",
        "\n",
        "    def merge_datasets(self):\n",
        "        self.books_df = self.df1.merge(self.df2, left_on='Title', right_on='Title', how='inner')\n",
        "        os.makedirs(f'{base_path}final_project/preprocessed_data', exist_ok=True)\n",
        "        self.books_df.to_csv(f\"{base_path}final_project/preprocessed_data/books_reviews.csv\", index=False)\n",
        "        return self.books_df\n",
        "\n",
        "    def print_info(self):\n",
        "        print(self.books_df.info())\n",
        "        print(self.books_df.head())"
      ]
    },
    {
      "cell_type": "code",
      "execution_count": 12,
      "metadata": {
        "colab": {
          "base_uri": "https://localhost:8080/"
        },
        "id": "_Zxk58cRjVYT",
        "outputId": "dad68686-92e7-4767-86e8-84bba598b439"
      },
      "outputs": [
        {
          "output_type": "stream",
          "name": "stdout",
          "text": [
            "<class 'pandas.core.frame.DataFrame'>\n",
            "Int64Index: 123 entries, 0 to 122\n",
            "Data columns (total 19 columns):\n",
            " #   Column              Non-Null Count  Dtype  \n",
            "---  ------              --------------  -----  \n",
            " 0   Title               123 non-null    object \n",
            " 1   description         104 non-null    object \n",
            " 2   authors             113 non-null    object \n",
            " 3   image               102 non-null    object \n",
            " 4   previewLink         115 non-null    object \n",
            " 5   publisher           97 non-null     object \n",
            " 6   publishedDate       115 non-null    object \n",
            " 7   infoLink            115 non-null    object \n",
            " 8   categories          107 non-null    object \n",
            " 9   ratingsCount        72 non-null     float64\n",
            " 10  Id                  123 non-null    object \n",
            " 11  Price               12 non-null     float64\n",
            " 12  User_id             96 non-null     object \n",
            " 13  profileName         96 non-null     object \n",
            " 14  review/helpfulness  123 non-null    object \n",
            " 15  review/score        123 non-null    float64\n",
            " 16  review/time         123 non-null    int64  \n",
            " 17  review/summary      123 non-null    object \n",
            " 18  review/text         123 non-null    object \n",
            "dtypes: float64(3), int64(1), object(15)\n",
            "memory usage: 19.2+ KB\n",
            "None\n",
            "                                         Title  \\\n",
            "0                           Echo Park (SIGNED)   \n",
            "1                           Echo Park (SIGNED)   \n",
            "2  The once and future king (A laurel edition)   \n",
            "3                 The Story Behind Great Books   \n",
            "4                                         Rage   \n",
            "\n",
            "                                         description  \\\n",
            "0                                                NaN   \n",
            "1                                                NaN   \n",
            "2                                                NaN   \n",
            "3                                                NaN   \n",
            "4  Rage is an unprecedented and intimate tour de ...   \n",
            "\n",
            "                          authors  \\\n",
            "0                 ['Steve Scott']   \n",
            "1                 ['Steve Scott']   \n",
            "2       ['Terence Hanbury White']   \n",
            "3  ['Elizabeth Rider Montgomery']   \n",
            "4                ['Bob Woodward']   \n",
            "\n",
            "                                               image  \\\n",
            "0  http://books.google.com/books/content?id=ejYPA...   \n",
            "1  http://books.google.com/books/content?id=ejYPA...   \n",
            "2                                                NaN   \n",
            "3  http://books.google.com/books/content?id=2HvQs...   \n",
            "4  http://books.google.com/books/content?id=DRs-E...   \n",
            "\n",
            "                                         previewLink  \\\n",
            "0  http://books.google.com/books?id=ejYPAAAACAAJ&...   \n",
            "1  http://books.google.com/books?id=ejYPAAAACAAJ&...   \n",
            "2  http://books.google.nl/books?id=Nti7oAEACAAJ&d...   \n",
            "3  http://books.google.com/books?id=2HvQs5TrOsMC&...   \n",
            "4  http://books.google.com/books?id=DRs-EAAAQBAJ&...   \n",
            "\n",
            "                    publisher publishedDate  \\\n",
            "0  San Diego Writer's Monthly       2000-06   \n",
            "1  San Diego Writer's Monthly       2000-06   \n",
            "2                         NaN          1964   \n",
            "3                         NaN          1948   \n",
            "4          Simon and Schuster    2021-09-14   \n",
            "\n",
            "                                            infoLink  \\\n",
            "0  http://books.google.com/books?id=ejYPAAAACAAJ&...   \n",
            "1  http://books.google.com/books?id=ejYPAAAACAAJ&...   \n",
            "2  http://books.google.nl/books?id=Nti7oAEACAAJ&d...   \n",
            "3  http://books.google.com/books?id=2HvQs5TrOsMC&...   \n",
            "4  http://books.google.com/books?id=DRs-EAAAQBAJ&...   \n",
            "\n",
            "                      categories  ratingsCount          Id  Price  \\\n",
            "0                    ['Fiction']           NaN  B000NUFI7M    NaN   \n",
            "1                    ['Fiction']           NaN  B000NUFI7M    NaN   \n",
            "2                            NaN         105.0  B0007EOD9I    NaN   \n",
            "3      [\"Children's literature\"]           NaN  B000JDUYYA    NaN   \n",
            "4  ['Biography & Autobiography']          24.0  B000HJOCSK    NaN   \n",
            "\n",
            "          User_id                                       profileName  \\\n",
            "0  A1QTTWI30CUF4L                    Thomas M. Finch \"wordstringer\"   \n",
            "1  A2182GVF8QKC4T                                            Brenda   \n",
            "2             NaN                                               NaN   \n",
            "3  A3BTL4FV6ODKAT  fredtownward \"The Analytical Mind; Have Brain...   \n",
            "4  A1AQDSTEBI8BB2       Lucilla Bellucci \"Lucille Bellucci, author\"   \n",
            "\n",
            "  review/helpfulness  review/score  review/time  \\\n",
            "0                2/2           5.0   1163203200   \n",
            "1                0/0           5.0   1360022400   \n",
            "2               3/24           1.0    920764800   \n",
            "3                0/0           5.0   1271721600   \n",
            "4                0/0           4.0   1354147200   \n",
            "\n",
            "                                      review/summary  \\\n",
            "0                              great detective story   \n",
            "1                                          Echo Park   \n",
            "2  WARNING! DO NOT READ THIS BOOK UNLESS YOU WANT...   \n",
            "3  Great Way to Introduce Young People to Great B...   \n",
            "4                                   Thunderous epics   \n",
            "\n",
            "                                         review/text  \n",
            "0  I first discovered Michael Connelly (through A...  \n",
            "1  Enjoyed this book. Plenty of twist and turns t...  \n",
            "2  When I read this book I found it to be the mos...  \n",
            "3  I sometimes think that we go about it the wron...  \n",
            "4  Wilbur Smith tells all about the upheaval in S...  \n"
          ]
        }
      ],
      "source": [
        "eda = Eda(limit)\n",
        "books_df = eda.merge_datasets()\n",
        "eda.print_info()"
      ]
    },
    {
      "cell_type": "code",
      "source": [
        "%cd {base_path}final_project\n",
        "#!git config --global user.name \"fernandaluft\"\n",
        "#!git config --global user.email \"fernandaluft@gmail.com\"\n",
        "!git config --global user.name \"neural1977\"\n",
        "!git config --global user.email \"pugliese05@gmail.com\"\n",
        "!git add .\n",
        "!git commit -m \"New Final Project\"\n"
      ],
      "metadata": {
        "colab": {
          "base_uri": "https://localhost:8080/"
        },
        "id": "6UrEmH-9vPf7",
        "outputId": "ba5fcd24-f7c4-4a7a-f643-04021aa251cc"
      },
      "execution_count": 19,
      "outputs": [
        {
          "output_type": "stream",
          "name": "stdout",
          "text": [
            "/content/final_project\n",
            "On branch main\n",
            "Your branch is ahead of 'origin/main' by 1 commit.\n",
            "  (use \"git push\" to publish your local commits)\n",
            "\n",
            "nothing to commit, working tree clean\n",
            "fatal: could not read Username for 'https://github.com': No such device or address\n"
          ]
        }
      ]
    }
  ],
  "metadata": {
    "kernelspec": {
      "display_name": "Python 3",
      "name": "python3"
    },
    "language_info": {
      "codemirror_mode": {
        "name": "ipython",
        "version": 3
      },
      "file_extension": ".py",
      "mimetype": "text/x-python",
      "name": "python",
      "nbconvert_exporter": "python",
      "pygments_lexer": "ipython3",
      "version": "3.11.4"
    },
    "colab": {
      "provenance": [],
      "machine_shape": "hm"
    }
  },
  "nbformat": 4,
  "nbformat_minor": 0
}
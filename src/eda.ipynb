{
  "cells": [
    {
      "cell_type": "code",
      "source": [
        "import os\n",
        "from pathlib import Path\n",
        "# Check if the code is running on Google Colab\n",
        "try:\n",
        "    import google.colab\n",
        "    IN_COLAB = True\n",
        "    base_path = \"/content/\"\n",
        "    if Path(f\"{base_path}final_project\").is_dir():\n",
        "      %cd {base_path}final_project\n",
        "      !git pull\n",
        "      %cd {base_path}\n",
        "    else:\n",
        "      !git clone https://github.com/fernandaluft/final_project.git\n",
        "except ImportError:\n",
        "    IN_COLAB = False\n",
        "    base_path = \"/workspaces/\""
      ],
      "metadata": {
        "colab": {
          "base_uri": "https://localhost:8080/"
        },
        "id": "CifM0L09jcsh",
        "outputId": "0db3a2b6-3db2-4038-d843-934a0e94892b"
      },
      "execution_count": 1,
      "outputs": [
        {
          "output_type": "stream",
          "name": "stdout",
          "text": [
            "Cloning into 'final_project'...\n",
            "remote: Enumerating objects: 84, done.\u001b[K\n",
            "remote: Counting objects: 100% (84/84), done.\u001b[K\n",
            "remote: Compressing objects: 100% (57/57), done.\u001b[K\n",
            "remote: Total 84 (delta 37), reused 62 (delta 18), pack-reused 0\u001b[K\n",
            "Receiving objects: 100% (84/84), 628.58 KiB | 13.66 MiB/s, done.\n",
            "Resolving deltas: 100% (37/37), done.\n"
          ]
        }
      ]
    },
    {
      "cell_type": "code",
      "execution_count": 2,
      "metadata": {
        "id": "RWE8jndNjVYM"
      },
      "outputs": [],
      "source": [
        "import pandas as pd\n",
        "import numpy as np\n",
        "import matplotlib.pyplot as plt\n",
        "import seaborn as sns\n",
        "from final_project.src.scraping import Scraping\n",
        "import os"
      ]
    },
    {
      "cell_type": "code",
      "execution_count": 4,
      "metadata": {
        "id": "Pmx0u6u4jVYQ"
      },
      "outputs": [],
      "source": [
        "scraping = Scraping(IN_COLAB)\n",
        "scraping.kaggle_scrape()"
      ]
    },
    {
      "cell_type": "code",
      "execution_count": 5,
      "metadata": {
        "id": "ahjJZTeRjVYR"
      },
      "outputs": [],
      "source": [
        "limit = 200000\n",
        "dataset_limit=60000"
      ]
    },
    {
      "cell_type": "code",
      "execution_count": 6,
      "metadata": {
        "id": "VvKweH2qjVYS"
      },
      "outputs": [],
      "source": [
        "class Eda():\n",
        "    def __init__(self, limit, dataset_limit):\n",
        "        self.dataset_limit = dataset_limit\n",
        "        self.limit = limit\n",
        "        os.makedirs(f'{base_path}final_project/charts', exist_ok=True)\n",
        "        os.makedirs(f'{base_path}final_project/preprocessed_data', exist_ok=True)\n",
        "\n",
        "    def merge_datasets(self):\n",
        "        if self.limit != None:\n",
        "          self.df1 = pd.read_csv(f'{base_path}final_project/data/books_data.csv').sample(self.limit)\n",
        "          self.df2 = pd.read_csv(f'{base_path}final_project/data/Books_rating.csv').sample(self.limit)\n",
        "        else:\n",
        "          self.df1 = pd.read_csv(f'{base_path}final_project/data/books_data.csv')\n",
        "          self.df2 = pd.read_csv(f'{base_path}final_project/data/Books_rating.csv')\n",
        "        self.books_df = self.df1.merge(self.df2, left_on='Title', right_on='Title', how='inner')\n",
        "        self.books_df = self.books_df.sample(self.dataset_limit)\n",
        "        self.books_df.to_csv(f\"{base_path}final_project/preprocessed_data/books_reviews.csv\", index=False)\n",
        "        os.system(f'zip -r {base_path}final_project/preprocessed_data/books_reviews.zip {base_path}final_project/preprocessed_data/books_reviews.csv')\n",
        "        os.system(f'rm -rf {base_path}final_project/preprocessed_data/books_reviews.csv')\n",
        "        command = \"split -b 100M '{}' --additional-suffix=_{}\".format(f'{base_path}final_project/preprocessed_data/books_reviews.zip', os.path.basename(f'{base_path}final_project/preprocessed_data/books_reviews.zip'))\n",
        "        os.system(command)\n",
        "        !mv {base_path}*_books_reviews.zip {base_path}final_project/preprocessed_data/\n",
        "        os.system(f'rm -rf {base_path}final_project/preprocessed_data/books_reviews.zip')\n",
        "\n",
        "        return self.books_df\n",
        "\n",
        "    def explore(self):\n",
        "        self.books_df = pd.read_csv(f\"{base_path}final_project/preprocessed_data/books_reviews.csv\")\n",
        "        print(f'Dataset Info:\\n {self.books_df.info()}')\n",
        "        print(f'Number of duplicates:\\n {self.books_df.duplicated().sum()}')\n",
        "        print(f'Null values:\\n {self.books_df.isnull().sum()}')\n",
        "        sns.heatmap(self.books_df.isnull(), annot = False)\n",
        "        plt.savefig(f'{base_path}final_project/charts/heatmap_null_values.jpg')\n",
        "        plt.show()\n",
        "        print(self.books_df.head())\n",
        "        print(self.books_df.Title.nunique())\n",
        "        print(self.books_df.groupby('Title')['review/text'].count().sort_values(ascending=False).iloc[0:51])\n",
        "        print(self.books_df.describe(include = np.number).T)\n",
        "        print(self.books_df.describe(include = ['O']).T)\n",
        "\n",
        "        plt.figure(figsize=(4,4))\n",
        "        plt.title(\"Correlation Analysis of Amazon Books Reviews\")\n",
        "        corr = self.books_df.corr()\n",
        "        sns.heatmap(corr, annot = True)\n",
        "        plt.savefig(f'{base_path}final_project/charts/correlation_matrix.jpg')\n",
        "        plt.show()\n",
        "\n",
        "    def data_cleaning(self):\n",
        "        self.books_df = self.books_df.drop_duplicates()\n",
        "        self.books_df = self.books_df.reset_index(drop=True)\n",
        "        print(f'New dataset shape:\\n {self.books_df.shape}')\n",
        "        print('Removing irrevelant variables...\\n')\n",
        "        self.books_df = self.books_df.drop(['previewLink', 'infoLink', 'Id', 'Price', 'User_id', 'profileName'], axis = 1)\n",
        "        print(f'New dataset columns:\\ {self.books_df.columns}')\n",
        "\n",
        "    def univariate_variables(self):\n",
        "        self.books_df_cat = self.books_df.select_dtypes(include=['O'])\n",
        "        self.books_df_num = self.books_df.select_dtypes(include=np.number)\n",
        "        print(f'Categorical and textual features:\\n {self.books_df_cat.info()}')\n",
        "        print(f'Numerical features:\\n {self.books_df_num.info()}')\n",
        "\n",
        "        fig, axis = plt.subplots(1, 3, figsize = (10, 7))\n",
        "        sns.countplot(ax = axis[0], data = self.books_df_cat, x = \"publisher\").set(ylabel = None)\n",
        "        sns.countplot(ax = axis[1], data = self.books_df_cat, x = \"categories\").set(ylabel = None)\n",
        "        sns.countplot(ax = axis[2], data = self.books_df_cat, x = \"authors\").set(ylabel = None)\n",
        "        plt.tight_layout()\n",
        "        plt.savefig(f'{base_path}final_project/charts/plot_categorical_variables.jpg')\n",
        "        plt.show()\n",
        "\n"
      ]
    },
    {
      "cell_type": "code",
      "execution_count": 7,
      "metadata": {
        "id": "_Zxk58cRjVYT"
      },
      "outputs": [],
      "source": [
        "eda = Eda(limit, dataset_limit)"
      ]
    },
    {
      "cell_type": "code",
      "source": [
        "%%time\n",
        "books_df = eda.merge_datasets()"
      ],
      "metadata": {
        "colab": {
          "base_uri": "https://localhost:8080/"
        },
        "id": "a3AytEs7wXhX",
        "outputId": "881a7f68-ebca-44d7-db8b-67967e2e2e07"
      },
      "execution_count": 8,
      "outputs": [
        {
          "output_type": "stream",
          "name": "stdout",
          "text": [
            "CPU times: user 42.2 s, sys: 4.49 s, total: 46.7 s\n",
            "Wall time: 46.5 s\n"
          ]
        }
      ]
    },
    {
      "cell_type": "code",
      "source": [
        "eda.explore()"
      ],
      "metadata": {
        "colab": {
          "base_uri": "https://localhost:8080/",
          "height": 1000
        },
        "id": "beJdvJ3stfZg",
        "outputId": "d8bd6e11-46ad-4343-a3c8-25871e2dbb6f"
      },
      "execution_count": null,
      "outputs": [
        {
          "output_type": "stream",
          "name": "stdout",
          "text": [
            "<class 'pandas.core.frame.DataFrame'>\n",
            "RangeIndex: 60000 entries, 0 to 59999\n",
            "Data columns (total 19 columns):\n",
            " #   Column              Non-Null Count  Dtype  \n",
            "---  ------              --------------  -----  \n",
            " 0   Title               59997 non-null  object \n",
            " 1   description         47199 non-null  object \n",
            " 2   authors             52130 non-null  object \n",
            " 3   image               49238 non-null  object \n",
            " 4   previewLink         53341 non-null  object \n",
            " 5   publisher           44355 non-null  object \n",
            " 6   publishedDate       52817 non-null  object \n",
            " 7   infoLink            53341 non-null  object \n",
            " 8   categories          49031 non-null  object \n",
            " 9   ratingsCount        32911 non-null  float64\n",
            " 10  Id                  60000 non-null  object \n",
            " 11  Price               9662 non-null   float64\n",
            " 12  User_id             48643 non-null  object \n",
            " 13  profileName         48642 non-null  object \n",
            " 14  review/helpfulness  60000 non-null  object \n",
            " 15  review/score        60000 non-null  float64\n",
            " 16  review/time         60000 non-null  int64  \n",
            " 17  review/summary      59998 non-null  object \n",
            " 18  review/text         60000 non-null  object \n",
            "dtypes: float64(3), int64(1), object(15)\n",
            "memory usage: 8.7+ MB\n",
            "Dataset Info:\n",
            " None\n",
            "Number of duplicates:\n",
            " 6\n",
            "Null values:\n",
            " Title                     3\n",
            "description           12801\n",
            "authors                7870\n",
            "image                 10762\n",
            "previewLink            6659\n",
            "publisher             15645\n",
            "publishedDate          7183\n",
            "infoLink               6659\n",
            "categories            10969\n",
            "ratingsCount          27089\n",
            "Id                        0\n",
            "Price                 50338\n",
            "User_id               11357\n",
            "profileName           11358\n",
            "review/helpfulness        0\n",
            "review/score              0\n",
            "review/time               0\n",
            "review/summary            2\n",
            "review/text               0\n",
            "dtype: int64\n"
          ]
        },
        {
          "output_type": "display_data",
          "data": {
            "text/plain": [
              "<Figure size 640x480 with 2 Axes>"
            ],
            "image/png": "[encoded data removed]"
          },
          "metadata": {}
        },
        {
          "output_type": "stream",
          "name": "stdout",
          "text": [
            "                                               Title  \\\n",
            "0              The Barbecue! Bible: Over 500 Recipes   \n",
            "1                            Life on the Mississippi   \n",
            "2  Moby Dick;: Or, The white whale (A Signet clas...   \n",
            "3                                   Love You Forever   \n",
            "4                                        Salem Falls   \n",
            "\n",
            "                                         description               authors  \\\n",
            "0  Now the biggest and the best recipe collection...   ['Steven Raichlen']   \n",
            "1  Offers a history of the river, describes Twain...        ['Mark Twain']   \n",
            "2  For this Sesquicentennial Norton Critical Edit...   ['Herman Melville']   \n",
            "3  As her son grows up from little boy to adult m...  ['Robert N. Munsch']   \n",
            "4  When Jack St. Bride arrives by chance in the s...      ['Jodi Picoult']   \n",
            "\n",
            "                                               image  \\\n",
            "0  http://books.google.com/books/content?id=JWoOI...   \n",
            "1  http://books.google.com/books/content?id=ZazQA...   \n",
            "2  http://books.google.com/books/content?id=3FUit...   \n",
            "3  http://books.google.com/books/content?id=7ep09...   \n",
            "4  http://books.google.com/books/content?id=BquVR...   \n",
            "\n",
            "                                         previewLink           publisher  \\\n",
            "0  http://books.google.com/books?id=JWoOI6MASqwC&...  Workman Publishing   \n",
            "1  http://books.google.com/books?id=ZazQAPc8SZ0C&...             Penguin   \n",
            "2  http://books.google.com/books?id=3FUitBnIC8EC&...     Signet Classics   \n",
            "3  http://books.google.com/books?id=7ep09WAFbDwC&...       Firefly Books   \n",
            "4  http://books.google.com/books?id=BquVRIOPyOUC&...  Simon and Schuster   \n",
            "\n",
            "  publishedDate                                           infoLink  \\\n",
            "0    2008-05-28  http://books.google.com/books?id=JWoOI6MASqwC&...   \n",
            "1          2009  http://books.google.com/books?id=ZazQAPc8SZ0C&...   \n",
            "2          1980  http://books.google.com/books?id=3FUitBnIC8EC&...   \n",
            "3          1986  http://books.google.com/books?id=7ep09WAFbDwC&...   \n",
            "4          2007  http://books.google.com/books?id=BquVRIOPyOUC&...   \n",
            "\n",
            "                                 categories  ratingsCount          Id  Price  \\\n",
            "0                               ['Cooking']          20.0  1563058669    NaN   \n",
            "1                                ['Travel']           NaN  B00005W8Z2    NaN   \n",
            "2  ['Ahab, Captain (Fictitious character)']           NaN  B0006AWVPG    NaN   \n",
            "3                      ['Juvenile Fiction']         346.0  B000KAHM5Q    NaN   \n",
            "4                  ['Diners (Restaurants)']          54.0  B000G9WBL6    NaN   \n",
            "\n",
            "          User_id             profileName review/helpfulness  review/score  \\\n",
            "0   A1O4VYJPIK20V       Thomas E. Tweedel               7/10           4.0   \n",
            "1  A3AITGXFGVM1T2   R. Martin \"boblaura9\"                2/2           5.0   \n",
            "2   A1GIDMO155EPH  katetiskus@hotmail.com                0/6           2.0   \n",
            "3  A245A57H8H2QNM           motherof2boys                2/4           1.0   \n",
            "4  A244SVFXKEL26F                Crystalm                0/0           5.0   \n",
            "\n",
            "   review/time                          review/summary  \\\n",
            "0   1066089600  A great guide to Grilling but no bible   \n",
            "1   1112659200                 Mark Twain at his best!   \n",
            "2    892080000           A classic, but a medicre one.   \n",
            "3   1273017600                           did not like!   \n",
            "4   1343606400                                Stunning   \n",
            "\n",
            "                                         review/text  \n",
            "0  This is a great though misnammed cookbook. Its...  \n",
            "1  I've been reading a lot of classic literature ...  \n",
            "2  This book is supposed to be the book to end al...  \n",
            "3  I can't quite explain why I really, really don...  \n",
            "4  I have read at least three books from Picoult ...  \n",
            "27404\n",
            "Title\n",
            "The Hobbit                                                                                                           454\n",
            "Pride and Prejudice                                                                                                  437\n",
            "Atlas Shrugged                                                                                                       253\n",
            "Wuthering Heights                                                                                                    237\n",
            "Great Expectations                                                                                                   167\n",
            "The Giver                                                                                                            163\n",
            "Of Mice and Men                                                                                                      159\n",
            "Brave New World                                                                                                      144\n",
            "Harry Potter and The Sorcerer's Stone                                                                                143\n",
            "Persuasion                                                                                                           131\n",
            "The Picture of Dorian Gray                                                                                           129\n",
            "Mere Christianity                                                                                                    124\n",
            "Fahrenheit 451                                                                                                       117\n",
            "The Hobbit There and Back Again                                                                                      111\n",
            "To kill a mockingbird                                                                                                107\n",
            "The Hobbitt, or there and back again; illustrated by the author.                                                     101\n",
            "The Hobbit; Or, There and Back Again                                                                                  96\n",
            "Little Women                                                                                                          89\n",
            "1984                                                                                                                  88\n",
            "A Tree Grows in Brooklyn                                                                                              87\n",
            "The Hobbit or There and Back Again                                                                                    83\n",
            "The Scarlet Letter A Romance                                                                                          83\n",
            "The Hitchhiker's Guide to the Galaxy                                                                                  83\n",
            "Harry Potter & the Prisoner of Azkaban                                                                                74\n",
            "Ulysses                                                                                                               73\n",
            "Holes                                                                                                                 73\n",
            "Jane Eyre                                                                                                             71\n",
            "ERAGON: INHERITANCE, BOOK ONE.                                                                                        68\n",
            "Gone with the Wind                                                                                                    68\n",
            "The Lord of the Rings - Boxed Set                                                                                     67\n",
            "THE CATCHER IN THE RYE                                                                                                66\n",
            "Slaughterhouse-Five                                                                                                   66\n",
            "Unfit for Command: Swift Boat Veterans Speak Out Against John Kerry                                                   64\n",
            "Zen and the Art of Motorcycle Maintenance                                                                             64\n",
            "Stranger in a Strange Land                                                                                            64\n",
            "Rich Dad, Poor Dad                                                                                                    63\n",
            "The Catcher in the Rye [Audiobook] [Cd] [Unabridged] (Audio CD)                                                       63\n",
            "Hannibal (Hannibal Lecter)                                                                                            62\n",
            "Lord of the flies                                                                                                     62\n",
            "Wuthering Heights (Signet classics)                                                                                   61\n",
            "Alice's Adventures in Wonderland                                                                                      60\n",
            "Hatchet                                                                                                               60\n",
            "Night                                                                                                                 60\n",
            "Lord of the Flies                                                                                                     59\n",
            "The Lord Of The Rings THREE VOLUME BOXED SET (The Fellowship Of The Ring, The Return of The King, The Two towers)     59\n",
            "Harry Potter and the Chamber of Secrets                                                                               58\n",
            "Hannibal                                                                                                              58\n",
            "Crossroads of Twilight (The Wheel of Time, Book 10)                                                                   58\n",
            "Bridget Jones's Diary                                                                                                 57\n",
            "To Kill a Mockingbird                                                                                                 56\n",
            "The Lord of the Rings (3 Volume Set)                                                                                  55\n",
            "Name: review/text, dtype: int64\n",
            "                count          mean           std  min           25%  \\\n",
            "ratingsCount  32911.0  2.760543e+02  7.992429e+02  1.0  3.000000e+00   \n",
            "Price          9662.0  2.194144e+01  2.677471e+01  1.0  1.062000e+01   \n",
            "review/score  60000.0  4.209500e+00  1.211377e+00  1.0  4.000000e+00   \n",
            "review/time   60000.0  1.132063e+09  1.493718e+08 -1.0  9.995400e+08   \n",
            "\n",
            "                       50%           75%           max  \n",
            "ratingsCount  1.000000e+01  5.300000e+01  4.562000e+03  \n",
            "Price         1.493000e+01  2.415000e+01  6.655600e+02  \n",
            "review/score  5.000000e+00  5.000000e+00  5.000000e+00  \n",
            "review/time   1.128125e+09  1.268698e+09  1.362355e+09  \n",
            "                    count unique  \\\n",
            "Title               59997  27404   \n",
            "description         47199  19967   \n",
            "authors             52130  18362   \n",
            "image               49238  21240   \n",
            "previewLink         53341  24368   \n",
            "publisher           44355   4190   \n",
            "publishedDate       52817   5640   \n",
            "infoLink            53341  24048   \n",
            "categories          49031   1995   \n",
            "Id                  60000  28631   \n",
            "User_id             48643  41659   \n",
            "profileName         48642  39224   \n",
            "review/helpfulness  60000   2068   \n",
            "review/summary      59998  52084   \n",
            "review/text         60000  58737   \n",
            "\n",
            "                                                                  top   freq  \n",
            "Title                                                      The Hobbit    454  \n",
            "description         Celebrating 75 years of one of the world's mos...    537  \n",
            "authors                                               ['Jane Austen']    780  \n",
            "image               http://books.google.com/books/content?id=LLSpn...    537  \n",
            "previewLink         http://books.google.com/books?id=LLSpngEACAAJ&...    454  \n",
            "publisher                                                     Penguin   2616  \n",
            "publishedDate                                                    2012   1022  \n",
            "infoLink            http://books.google.com/books?id=LLSpngEACAAJ&...    454  \n",
            "categories                                                ['Fiction']  16481  \n",
            "Id                                                         B000IEZE3G    143  \n",
            "User_id                                                A14OJS0VWMOSWO    123  \n",
            "profileName                                                A Customer    124  \n",
            "review/helpfulness                                                0/0  17724  \n",
            "review/summary                                             Great book    137  \n",
            "review/text         Louisa May Alcott wrote many books, but \"Littl...      8  \n"
          ]
        },
        {
          "output_type": "stream",
          "name": "stderr",
          "text": [
            "<ipython-input-5-49937c16cc7e>:36: FutureWarning: The default value of numeric_only in DataFrame.corr is deprecated. In a future version, it will default to False. Select only valid columns or specify the value of numeric_only to silence this warning.\n",
            "  corr = self.books_df.corr()\n"
          ]
        },
        {
          "output_type": "display_data",
          "data": {
            "text/plain": [
              "<Figure size 400x400 with 2 Axes>"
            ],
            "image/png": "[encoded data removed]"
          },
          "metadata": {}
        }
      ]
    },
    {
      "cell_type": "code",
      "source": [
        "eda.data_cleaning()"
      ],
      "metadata": {
        "colab": {
          "base_uri": "https://localhost:8080/"
        },
        "id": "EDwOzDrlvNzQ",
        "outputId": "146144c5-f7e1-41f7-a50a-fe70fc11321f"
      },
      "execution_count": null,
      "outputs": [
        {
          "output_type": "stream",
          "name": "stdout",
          "text": [
            "New dataset shape:\n",
            " (59994, 19)\n",
            "Removing irrevelant variables...\n",
            "\n",
            "New dataset columns:\\ Index(['Title', 'description', 'authors', 'image', 'publisher',\n",
            "       'publishedDate', 'categories', 'ratingsCount', 'review/helpfulness',\n",
            "       'review/score', 'review/time', 'review/summary', 'review/text'],\n",
            "      dtype='object')\n"
          ]
        }
      ]
    },
    {
      "cell_type": "code",
      "source": [
        "eda.univariate_variables()"
      ],
      "metadata": {
        "colab": {
          "base_uri": "https://localhost:8080/"
        },
        "id": "RqQ5hwYe9JHl",
        "outputId": "832c04a3-6356-4548-f9ac-89b0595c1b77"
      },
      "execution_count": null,
      "outputs": [
        {
          "output_type": "stream",
          "name": "stdout",
          "text": [
            "<class 'pandas.core.frame.DataFrame'>\n",
            "RangeIndex: 59994 entries, 0 to 59993\n",
            "Data columns (total 10 columns):\n",
            " #   Column              Non-Null Count  Dtype \n",
            "---  ------              --------------  ----- \n",
            " 0   Title               59991 non-null  object\n",
            " 1   description         47193 non-null  object\n",
            " 2   authors             52124 non-null  object\n",
            " 3   image               49232 non-null  object\n",
            " 4   publisher           44350 non-null  object\n",
            " 5   publishedDate       52811 non-null  object\n",
            " 6   categories          49025 non-null  object\n",
            " 7   review/helpfulness  59994 non-null  object\n",
            " 8   review/summary      59992 non-null  object\n",
            " 9   review/text         59994 non-null  object\n",
            "dtypes: object(10)\n",
            "memory usage: 4.6+ MB\n",
            "Categorical and textual features:\n",
            " None\n",
            "<class 'pandas.core.frame.DataFrame'>\n",
            "RangeIndex: 59994 entries, 0 to 59993\n",
            "Data columns (total 3 columns):\n",
            " #   Column        Non-Null Count  Dtype  \n",
            "---  ------        --------------  -----  \n",
            " 0   ratingsCount  32907 non-null  float64\n",
            " 1   review/score  59994 non-null  float64\n",
            " 2   review/time   59994 non-null  int64  \n",
            "dtypes: float64(2), int64(1)\n",
            "memory usage: 1.4 MB\n",
            "Numerical features:\n",
            " None\n"
          ]
        },
        {
          "output_type": "stream",
          "name": "stderr",
          "text": [
            "<ipython-input-5-49937c16cc7e>:59: UserWarning: Glyph 35895 (\\N{CJK UNIFIED IDEOGRAPH-8C37}) missing from current font.\n",
            "  plt.tight_layout()\n",
            "<ipython-input-5-49937c16cc7e>:59: UserWarning: Glyph 26376 (\\N{CJK UNIFIED IDEOGRAPH-6708}) missing from current font.\n",
            "  plt.tight_layout()\n",
            "<ipython-input-5-49937c16cc7e>:59: UserWarning: Glyph 31038 (\\N{CJK UNIFIED IDEOGRAPH-793E}) missing from current font.\n",
            "  plt.tight_layout()\n",
            "<ipython-input-5-49937c16cc7e>:59: UserWarning: Glyph 50672 (\\N{HANGUL SYLLABLE YEON}) missing from current font.\n",
            "  plt.tight_layout()\n",
            "<ipython-input-5-49937c16cc7e>:59: UserWarning: Glyph 49464 (\\N{HANGUL SYLLABLE SE}) missing from current font.\n",
            "  plt.tight_layout()\n",
            "<ipython-input-5-49937c16cc7e>:59: UserWarning: Glyph 45824 (\\N{HANGUL SYLLABLE DAE}) missing from current font.\n",
            "  plt.tight_layout()\n",
            "<ipython-input-5-49937c16cc7e>:59: UserWarning: Glyph 54617 (\\N{HANGUL SYLLABLE HAG}) missing from current font.\n",
            "  plt.tight_layout()\n",
            "<ipython-input-5-49937c16cc7e>:59: UserWarning: Glyph 44368 (\\N{HANGUL SYLLABLE GYO}) missing from current font.\n",
            "  plt.tight_layout()\n",
            "<ipython-input-5-49937c16cc7e>:59: UserWarning: Glyph 52636 (\\N{HANGUL SYLLABLE CUL}) missing from current font.\n",
            "  plt.tight_layout()\n",
            "<ipython-input-5-49937c16cc7e>:59: UserWarning: Glyph 54032 (\\N{HANGUL SYLLABLE PAN}) missing from current font.\n",
            "  plt.tight_layout()\n",
            "<ipython-input-5-49937c16cc7e>:59: UserWarning: Glyph 48512 (\\N{HANGUL SYLLABLE BU}) missing from current font.\n",
            "  plt.tight_layout()\n",
            "<ipython-input-5-49937c16cc7e>:59: UserWarning: Glyph 21271 (\\N{CJK UNIFIED IDEOGRAPH-5317}) missing from current font.\n",
            "  plt.tight_layout()\n",
            "<ipython-input-5-49937c16cc7e>:59: UserWarning: Glyph 25140 (\\N{CJK UNIFIED IDEOGRAPH-6234}) missing from current font.\n",
            "  plt.tight_layout()\n",
            "<ipython-input-5-49937c16cc7e>:59: UserWarning: Glyph 27827 (\\N{CJK UNIFIED IDEOGRAPH-6CB3}) missing from current font.\n",
            "  plt.tight_layout()\n",
            "<ipython-input-5-49937c16cc7e>:59: UserWarning: Glyph 20986 (\\N{CJK UNIFIED IDEOGRAPH-51FA}) missing from current font.\n",
            "  plt.tight_layout()\n",
            "<ipython-input-5-49937c16cc7e>:59: UserWarning: Glyph 29256 (\\N{CJK UNIFIED IDEOGRAPH-7248}) missing from current font.\n",
            "  plt.tight_layout()\n",
            "<ipython-input-5-49937c16cc7e>:59: UserWarning: Glyph 31168 (\\N{CJK UNIFIED IDEOGRAPH-79C0}) missing from current font.\n",
            "  plt.tight_layout()\n",
            "<ipython-input-5-49937c16cc7e>:59: UserWarning: Glyph 21644 (\\N{CJK UNIFIED IDEOGRAPH-548C}) missing from current font.\n",
            "  plt.tight_layout()\n",
            "<ipython-input-5-49937c16cc7e>:59: UserWarning: Glyph 12471 (\\N{KATAKANA LETTER SI}) missing from current font.\n",
            "  plt.tight_layout()\n",
            "<ipython-input-5-49937c16cc7e>:59: UserWarning: Glyph 12473 (\\N{KATAKANA LETTER SU}) missing from current font.\n",
            "  plt.tight_layout()\n",
            "<ipython-input-5-49937c16cc7e>:59: UserWarning: Glyph 12486 (\\N{KATAKANA LETTER TE}) missing from current font.\n",
            "  plt.tight_layout()\n",
            "<ipython-input-5-49937c16cc7e>:59: UserWarning: Glyph 12512 (\\N{KATAKANA LETTER MU}) missing from current font.\n",
            "  plt.tight_layout()\n",
            "<ipython-input-5-49937c16cc7e>:59: UserWarning: Glyph 26494 (\\N{CJK UNIFIED IDEOGRAPH-677E}) missing from current font.\n",
            "  plt.tight_layout()\n",
            "<ipython-input-5-49937c16cc7e>:59: UserWarning: Glyph 23614 (\\N{CJK UNIFIED IDEOGRAPH-5C3E}) missing from current font.\n",
            "  plt.tight_layout()\n",
            "<ipython-input-5-49937c16cc7e>:59: UserWarning: Glyph 33453 (\\N{CJK UNIFIED IDEOGRAPH-82AD}) missing from current font.\n",
            "  plt.tight_layout()\n",
            "<ipython-input-5-49937c16cc7e>:59: UserWarning: Glyph 34121 (\\N{CJK UNIFIED IDEOGRAPH-8549}) missing from current font.\n",
            "  plt.tight_layout()\n",
            "<ipython-input-5-49937c16cc7e>:59: UserWarning: Glyph 22338 (\\N{CJK UNIFIED IDEOGRAPH-5742}) missing from current font.\n",
            "  plt.tight_layout()\n",
            "<ipython-input-5-49937c16cc7e>:59: UserWarning: Glyph 37326 (\\N{CJK UNIFIED IDEOGRAPH-91CE}) missing from current font.\n",
            "  plt.tight_layout()\n",
            "<ipython-input-5-49937c16cc7e>:59: UserWarning: Glyph 27704 (\\N{CJK UNIFIED IDEOGRAPH-6C38}) missing from current font.\n",
            "  plt.tight_layout()\n",
            "<ipython-input-5-49937c16cc7e>:59: UserWarning: Glyph 29702 (\\N{CJK UNIFIED IDEOGRAPH-7406}) missing from current font.\n",
            "  plt.tight_layout()\n",
            "<ipython-input-5-49937c16cc7e>:59: UserWarning: Glyph 27744 (\\N{CJK UNIFIED IDEOGRAPH-6C60}) missing from current font.\n",
            "  plt.tight_layout()\n",
            "<ipython-input-5-49937c16cc7e>:59: UserWarning: Glyph 30000 (\\N{CJK UNIFIED IDEOGRAPH-7530}) missing from current font.\n",
            "  plt.tight_layout()\n",
            "<ipython-input-5-49937c16cc7e>:59: UserWarning: Glyph 24248 (\\N{CJK UNIFIED IDEOGRAPH-5EB8}) missing from current font.\n",
            "  plt.tight_layout()\n",
            "<ipython-input-5-49937c16cc7e>:59: UserWarning: Glyph 23376 (\\N{CJK UNIFIED IDEOGRAPH-5B50}) missing from current font.\n",
            "  plt.tight_layout()\n",
            "<ipython-input-5-49937c16cc7e>:59: UserWarning: Glyph 22823 (\\N{CJK UNIFIED IDEOGRAPH-5927}) missing from current font.\n",
            "  plt.tight_layout()\n",
            "<ipython-input-5-49937c16cc7e>:59: UserWarning: Glyph 35029 (\\N{CJK UNIFIED IDEOGRAPH-88D5}) missing from current font.\n",
            "  plt.tight_layout()\n",
            "<ipython-input-5-49937c16cc7e>:59: UserWarning: Glyph 21697 (\\N{CJK UNIFIED IDEOGRAPH-54C1}) missing from current font.\n",
            "  plt.tight_layout()\n",
            "<ipython-input-5-49937c16cc7e>:59: UserWarning: Glyph 24029 (\\N{CJK UNIFIED IDEOGRAPH-5DDD}) missing from current font.\n",
            "  plt.tight_layout()\n",
            "<ipython-input-5-49937c16cc7e>:59: UserWarning: Glyph 24685 (\\N{CJK UNIFIED IDEOGRAPH-606D}) missing from current font.\n",
            "  plt.tight_layout()\n",
            "<ipython-input-5-49937c16cc7e>:59: UserWarning: Glyph 28193 (\\N{CJK UNIFIED IDEOGRAPH-6E21}) missing from current font.\n",
            "  plt.tight_layout()\n",
            "<ipython-input-5-49937c16cc7e>:59: UserWarning: Glyph 22025 (\\N{CJK UNIFIED IDEOGRAPH-5609}) missing from current font.\n",
            "  plt.tight_layout()\n",
            "<ipython-input-5-49937c16cc7e>:59: UserWarning: Glyph 25975 (\\N{CJK UNIFIED IDEOGRAPH-6577}) missing from current font.\n",
            "  plt.tight_layout()\n",
            "<ipython-input-5-49937c16cc7e>:59: UserWarning: Glyph 32769 (\\N{CJK UNIFIED IDEOGRAPH-8001}) missing from current font.\n",
            "  plt.tight_layout()\n",
            "<ipython-input-5-49937c16cc7e>:59: UserWarning: Glyph 21016 (\\N{CJK UNIFIED IDEOGRAPH-5218}) missing from current font.\n",
            "  plt.tight_layout()\n",
            "<ipython-input-5-49937c16cc7e>:59: UserWarning: Glyph 29667 (\\N{CJK UNIFIED IDEOGRAPH-73E3}) missing from current font.\n",
            "  plt.tight_layout()\n",
            "<ipython-input-5-49937c16cc7e>:59: UserWarning: Glyph 30495 (\\N{CJK UNIFIED IDEOGRAPH-771F}) missing from current font.\n",
            "  plt.tight_layout()\n",
            "<ipython-input-5-49937c16cc7e>:59: UserWarning: Glyph 30693 (\\N{CJK UNIFIED IDEOGRAPH-77E5}) missing from current font.\n",
            "  plt.tight_layout()\n",
            "<ipython-input-5-49937c16cc7e>:59: UserWarning: Glyph 33304 (\\N{CJK UNIFIED IDEOGRAPH-8218}) missing from current font.\n",
            "  plt.tight_layout()\n",
            "<ipython-input-5-49937c16cc7e>:59: UserWarning: Glyph 26611 (\\N{CJK UNIFIED IDEOGRAPH-67F3}) missing from current font.\n",
            "  plt.tight_layout()\n",
            "<ipython-input-5-49937c16cc7e>:59: UserWarning: Glyph 29983 (\\N{CJK UNIFIED IDEOGRAPH-751F}) missing from current font.\n",
            "  plt.tight_layout()\n",
            "<ipython-input-5-49937c16cc7e>:59: UserWarning: Glyph 23447 (\\N{CJK UNIFIED IDEOGRAPH-5B97}) missing from current font.\n",
            "  plt.tight_layout()\n",
            "<ipython-input-5-49937c16cc7e>:59: UserWarning: Glyph 30697 (\\N{CJK UNIFIED IDEOGRAPH-77E9}) missing from current font.\n",
            "  plt.tight_layout()\n",
            "<ipython-input-5-49937c16cc7e>:59: UserWarning: Glyph 31471 (\\N{CJK UNIFIED IDEOGRAPH-7AEF}) missing from current font.\n",
            "  plt.tight_layout()\n",
            "<ipython-input-5-49937c16cc7e>:59: UserWarning: Glyph 24247 (\\N{CJK UNIFIED IDEOGRAPH-5EB7}) missing from current font.\n",
            "  plt.tight_layout()\n",
            "<ipython-input-5-49937c16cc7e>:59: UserWarning: Glyph 25104 (\\N{CJK UNIFIED IDEOGRAPH-6210}) missing from current font.\n",
            "  plt.tight_layout()\n",
            "<ipython-input-5-49937c16cc7e>:59: UserWarning: Glyph 22799 (\\N{CJK UNIFIED IDEOGRAPH-590F}) missing from current font.\n",
            "  plt.tight_layout()\n",
            "<ipython-input-5-49937c16cc7e>:59: UserWarning: Glyph 30446 (\\N{CJK UNIFIED IDEOGRAPH-76EE}) missing from current font.\n",
            "  plt.tight_layout()\n",
            "<ipython-input-5-49937c16cc7e>:59: UserWarning: Glyph 28465 (\\N{CJK UNIFIED IDEOGRAPH-6F31}) missing from current font.\n",
            "  plt.tight_layout()\n",
            "<ipython-input-5-49937c16cc7e>:59: UserWarning: Glyph 30707 (\\N{CJK UNIFIED IDEOGRAPH-77F3}) missing from current font.\n",
            "  plt.tight_layout()\n",
            "<ipython-input-5-49937c16cc7e>:59: UserWarning: Tight layout not applied. The left and right margins cannot be made large enough to accommodate all axes decorations.\n",
            "  plt.tight_layout()\n",
            "<ipython-input-5-49937c16cc7e>:60: UserWarning: Glyph 35895 (\\N{CJK UNIFIED IDEOGRAPH-8C37}) missing from current font.\n",
            "  plt.savefig(f'{base_path}final_project/charts/plot_categorical_variables.jpg')\n",
            "<ipython-input-5-49937c16cc7e>:60: UserWarning: Glyph 26376 (\\N{CJK UNIFIED IDEOGRAPH-6708}) missing from current font.\n",
            "  plt.savefig(f'{base_path}final_project/charts/plot_categorical_variables.jpg')\n",
            "<ipython-input-5-49937c16cc7e>:60: UserWarning: Glyph 31038 (\\N{CJK UNIFIED IDEOGRAPH-793E}) missing from current font.\n",
            "  plt.savefig(f'{base_path}final_project/charts/plot_categorical_variables.jpg')\n",
            "<ipython-input-5-49937c16cc7e>:60: UserWarning: Glyph 50672 (\\N{HANGUL SYLLABLE YEON}) missing from current font.\n",
            "  plt.savefig(f'{base_path}final_project/charts/plot_categorical_variables.jpg')\n",
            "<ipython-input-5-49937c16cc7e>:60: UserWarning: Glyph 49464 (\\N{HANGUL SYLLABLE SE}) missing from current font.\n",
            "  plt.savefig(f'{base_path}final_project/charts/plot_categorical_variables.jpg')\n",
            "<ipython-input-5-49937c16cc7e>:60: UserWarning: Glyph 45824 (\\N{HANGUL SYLLABLE DAE}) missing from current font.\n",
            "  plt.savefig(f'{base_path}final_project/charts/plot_categorical_variables.jpg')\n",
            "<ipython-input-5-49937c16cc7e>:60: UserWarning: Glyph 54617 (\\N{HANGUL SYLLABLE HAG}) missing from current font.\n",
            "  plt.savefig(f'{base_path}final_project/charts/plot_categorical_variables.jpg')\n",
            "<ipython-input-5-49937c16cc7e>:60: UserWarning: Glyph 44368 (\\N{HANGUL SYLLABLE GYO}) missing from current font.\n",
            "  plt.savefig(f'{base_path}final_project/charts/plot_categorical_variables.jpg')\n",
            "<ipython-input-5-49937c16cc7e>:60: UserWarning: Glyph 52636 (\\N{HANGUL SYLLABLE CUL}) missing from current font.\n",
            "  plt.savefig(f'{base_path}final_project/charts/plot_categorical_variables.jpg')\n",
            "<ipython-input-5-49937c16cc7e>:60: UserWarning: Glyph 54032 (\\N{HANGUL SYLLABLE PAN}) missing from current font.\n",
            "  plt.savefig(f'{base_path}final_project/charts/plot_categorical_variables.jpg')\n",
            "<ipython-input-5-49937c16cc7e>:60: UserWarning: Glyph 48512 (\\N{HANGUL SYLLABLE BU}) missing from current font.\n",
            "  plt.savefig(f'{base_path}final_project/charts/plot_categorical_variables.jpg')\n",
            "<ipython-input-5-49937c16cc7e>:60: UserWarning: Glyph 21271 (\\N{CJK UNIFIED IDEOGRAPH-5317}) missing from current font.\n",
            "  plt.savefig(f'{base_path}final_project/charts/plot_categorical_variables.jpg')\n",
            "<ipython-input-5-49937c16cc7e>:60: UserWarning: Glyph 25140 (\\N{CJK UNIFIED IDEOGRAPH-6234}) missing from current font.\n",
            "  plt.savefig(f'{base_path}final_project/charts/plot_categorical_variables.jpg')\n",
            "<ipython-input-5-49937c16cc7e>:60: UserWarning: Glyph 27827 (\\N{CJK UNIFIED IDEOGRAPH-6CB3}) missing from current font.\n",
            "  plt.savefig(f'{base_path}final_project/charts/plot_categorical_variables.jpg')\n",
            "<ipython-input-5-49937c16cc7e>:60: UserWarning: Glyph 20986 (\\N{CJK UNIFIED IDEOGRAPH-51FA}) missing from current font.\n",
            "  plt.savefig(f'{base_path}final_project/charts/plot_categorical_variables.jpg')\n",
            "<ipython-input-5-49937c16cc7e>:60: UserWarning: Glyph 29256 (\\N{CJK UNIFIED IDEOGRAPH-7248}) missing from current font.\n",
            "  plt.savefig(f'{base_path}final_project/charts/plot_categorical_variables.jpg')\n",
            "<ipython-input-5-49937c16cc7e>:60: UserWarning: Glyph 31168 (\\N{CJK UNIFIED IDEOGRAPH-79C0}) missing from current font.\n",
            "  plt.savefig(f'{base_path}final_project/charts/plot_categorical_variables.jpg')\n",
            "<ipython-input-5-49937c16cc7e>:60: UserWarning: Glyph 21644 (\\N{CJK UNIFIED IDEOGRAPH-548C}) missing from current font.\n",
            "  plt.savefig(f'{base_path}final_project/charts/plot_categorical_variables.jpg')\n",
            "<ipython-input-5-49937c16cc7e>:60: UserWarning: Glyph 12471 (\\N{KATAKANA LETTER SI}) missing from current font.\n",
            "  plt.savefig(f'{base_path}final_project/charts/plot_categorical_variables.jpg')\n",
            "<ipython-input-5-49937c16cc7e>:60: UserWarning: Glyph 12473 (\\N{KATAKANA LETTER SU}) missing from current font.\n",
            "  plt.savefig(f'{base_path}final_project/charts/plot_categorical_variables.jpg')\n",
            "<ipython-input-5-49937c16cc7e>:60: UserWarning: Glyph 12486 (\\N{KATAKANA LETTER TE}) missing from current font.\n",
            "  plt.savefig(f'{base_path}final_project/charts/plot_categorical_variables.jpg')\n",
            "<ipython-input-5-49937c16cc7e>:60: UserWarning: Glyph 12512 (\\N{KATAKANA LETTER MU}) missing from current font.\n",
            "  plt.savefig(f'{base_path}final_project/charts/plot_categorical_variables.jpg')\n",
            "<ipython-input-5-49937c16cc7e>:60: UserWarning: Glyph 26494 (\\N{CJK UNIFIED IDEOGRAPH-677E}) missing from current font.\n",
            "  plt.savefig(f'{base_path}final_project/charts/plot_categorical_variables.jpg')\n",
            "<ipython-input-5-49937c16cc7e>:60: UserWarning: Glyph 23614 (\\N{CJK UNIFIED IDEOGRAPH-5C3E}) missing from current font.\n",
            "  plt.savefig(f'{base_path}final_project/charts/plot_categorical_variables.jpg')\n",
            "<ipython-input-5-49937c16cc7e>:60: UserWarning: Glyph 33453 (\\N{CJK UNIFIED IDEOGRAPH-82AD}) missing from current font.\n",
            "  plt.savefig(f'{base_path}final_project/charts/plot_categorical_variables.jpg')\n",
            "<ipython-input-5-49937c16cc7e>:60: UserWarning: Glyph 34121 (\\N{CJK UNIFIED IDEOGRAPH-8549}) missing from current font.\n",
            "  plt.savefig(f'{base_path}final_project/charts/plot_categorical_variables.jpg')\n",
            "<ipython-input-5-49937c16cc7e>:60: UserWarning: Glyph 22338 (\\N{CJK UNIFIED IDEOGRAPH-5742}) missing from current font.\n",
            "  plt.savefig(f'{base_path}final_project/charts/plot_categorical_variables.jpg')\n",
            "<ipython-input-5-49937c16cc7e>:60: UserWarning: Glyph 37326 (\\N{CJK UNIFIED IDEOGRAPH-91CE}) missing from current font.\n",
            "  plt.savefig(f'{base_path}final_project/charts/plot_categorical_variables.jpg')\n",
            "<ipython-input-5-49937c16cc7e>:60: UserWarning: Glyph 27704 (\\N{CJK UNIFIED IDEOGRAPH-6C38}) missing from current font.\n",
            "  plt.savefig(f'{base_path}final_project/charts/plot_categorical_variables.jpg')\n",
            "<ipython-input-5-49937c16cc7e>:60: UserWarning: Glyph 29702 (\\N{CJK UNIFIED IDEOGRAPH-7406}) missing from current font.\n",
            "  plt.savefig(f'{base_path}final_project/charts/plot_categorical_variables.jpg')\n",
            "<ipython-input-5-49937c16cc7e>:60: UserWarning: Glyph 27744 (\\N{CJK UNIFIED IDEOGRAPH-6C60}) missing from current font.\n",
            "  plt.savefig(f'{base_path}final_project/charts/plot_categorical_variables.jpg')\n",
            "<ipython-input-5-49937c16cc7e>:60: UserWarning: Glyph 30000 (\\N{CJK UNIFIED IDEOGRAPH-7530}) missing from current font.\n",
            "  plt.savefig(f'{base_path}final_project/charts/plot_categorical_variables.jpg')\n",
            "<ipython-input-5-49937c16cc7e>:60: UserWarning: Glyph 24248 (\\N{CJK UNIFIED IDEOGRAPH-5EB8}) missing from current font.\n",
            "  plt.savefig(f'{base_path}final_project/charts/plot_categorical_variables.jpg')\n",
            "<ipython-input-5-49937c16cc7e>:60: UserWarning: Glyph 23376 (\\N{CJK UNIFIED IDEOGRAPH-5B50}) missing from current font.\n",
            "  plt.savefig(f'{base_path}final_project/charts/plot_categorical_variables.jpg')\n",
            "<ipython-input-5-49937c16cc7e>:60: UserWarning: Glyph 22823 (\\N{CJK UNIFIED IDEOGRAPH-5927}) missing from current font.\n",
            "  plt.savefig(f'{base_path}final_project/charts/plot_categorical_variables.jpg')\n",
            "<ipython-input-5-49937c16cc7e>:60: UserWarning: Glyph 35029 (\\N{CJK UNIFIED IDEOGRAPH-88D5}) missing from current font.\n",
            "  plt.savefig(f'{base_path}final_project/charts/plot_categorical_variables.jpg')\n",
            "<ipython-input-5-49937c16cc7e>:60: UserWarning: Glyph 21697 (\\N{CJK UNIFIED IDEOGRAPH-54C1}) missing from current font.\n",
            "  plt.savefig(f'{base_path}final_project/charts/plot_categorical_variables.jpg')\n",
            "<ipython-input-5-49937c16cc7e>:60: UserWarning: Glyph 24029 (\\N{CJK UNIFIED IDEOGRAPH-5DDD}) missing from current font.\n",
            "  plt.savefig(f'{base_path}final_project/charts/plot_categorical_variables.jpg')\n",
            "<ipython-input-5-49937c16cc7e>:60: UserWarning: Glyph 24685 (\\N{CJK UNIFIED IDEOGRAPH-606D}) missing from current font.\n",
            "  plt.savefig(f'{base_path}final_project/charts/plot_categorical_variables.jpg')\n",
            "<ipython-input-5-49937c16cc7e>:60: UserWarning: Glyph 28193 (\\N{CJK UNIFIED IDEOGRAPH-6E21}) missing from current font.\n",
            "  plt.savefig(f'{base_path}final_project/charts/plot_categorical_variables.jpg')\n",
            "<ipython-input-5-49937c16cc7e>:60: UserWarning: Glyph 22025 (\\N{CJK UNIFIED IDEOGRAPH-5609}) missing from current font.\n",
            "  plt.savefig(f'{base_path}final_project/charts/plot_categorical_variables.jpg')\n",
            "<ipython-input-5-49937c16cc7e>:60: UserWarning: Glyph 25975 (\\N{CJK UNIFIED IDEOGRAPH-6577}) missing from current font.\n",
            "  plt.savefig(f'{base_path}final_project/charts/plot_categorical_variables.jpg')\n",
            "<ipython-input-5-49937c16cc7e>:60: UserWarning: Glyph 32769 (\\N{CJK UNIFIED IDEOGRAPH-8001}) missing from current font.\n",
            "  plt.savefig(f'{base_path}final_project/charts/plot_categorical_variables.jpg')\n",
            "<ipython-input-5-49937c16cc7e>:60: UserWarning: Glyph 21016 (\\N{CJK UNIFIED IDEOGRAPH-5218}) missing from current font.\n",
            "  plt.savefig(f'{base_path}final_project/charts/plot_categorical_variables.jpg')\n",
            "<ipython-input-5-49937c16cc7e>:60: UserWarning: Glyph 29667 (\\N{CJK UNIFIED IDEOGRAPH-73E3}) missing from current font.\n",
            "  plt.savefig(f'{base_path}final_project/charts/plot_categorical_variables.jpg')\n",
            "<ipython-input-5-49937c16cc7e>:60: UserWarning: Glyph 30495 (\\N{CJK UNIFIED IDEOGRAPH-771F}) missing from current font.\n",
            "  plt.savefig(f'{base_path}final_project/charts/plot_categorical_variables.jpg')\n",
            "<ipython-input-5-49937c16cc7e>:60: UserWarning: Glyph 30693 (\\N{CJK UNIFIED IDEOGRAPH-77E5}) missing from current font.\n",
            "  plt.savefig(f'{base_path}final_project/charts/plot_categorical_variables.jpg')\n",
            "<ipython-input-5-49937c16cc7e>:60: UserWarning: Glyph 33304 (\\N{CJK UNIFIED IDEOGRAPH-8218}) missing from current font.\n",
            "  plt.savefig(f'{base_path}final_project/charts/plot_categorical_variables.jpg')\n",
            "<ipython-input-5-49937c16cc7e>:60: UserWarning: Glyph 26611 (\\N{CJK UNIFIED IDEOGRAPH-67F3}) missing from current font.\n",
            "  plt.savefig(f'{base_path}final_project/charts/plot_categorical_variables.jpg')\n",
            "<ipython-input-5-49937c16cc7e>:60: UserWarning: Glyph 29983 (\\N{CJK UNIFIED IDEOGRAPH-751F}) missing from current font.\n",
            "  plt.savefig(f'{base_path}final_project/charts/plot_categorical_variables.jpg')\n",
            "<ipython-input-5-49937c16cc7e>:60: UserWarning: Glyph 23447 (\\N{CJK UNIFIED IDEOGRAPH-5B97}) missing from current font.\n",
            "  plt.savefig(f'{base_path}final_project/charts/plot_categorical_variables.jpg')\n",
            "<ipython-input-5-49937c16cc7e>:60: UserWarning: Glyph 30697 (\\N{CJK UNIFIED IDEOGRAPH-77E9}) missing from current font.\n",
            "  plt.savefig(f'{base_path}final_project/charts/plot_categorical_variables.jpg')\n",
            "<ipython-input-5-49937c16cc7e>:60: UserWarning: Glyph 31471 (\\N{CJK UNIFIED IDEOGRAPH-7AEF}) missing from current font.\n",
            "  plt.savefig(f'{base_path}final_project/charts/plot_categorical_variables.jpg')\n",
            "<ipython-input-5-49937c16cc7e>:60: UserWarning: Glyph 24247 (\\N{CJK UNIFIED IDEOGRAPH-5EB7}) missing from current font.\n",
            "  plt.savefig(f'{base_path}final_project/charts/plot_categorical_variables.jpg')\n",
            "<ipython-input-5-49937c16cc7e>:60: UserWarning: Glyph 25104 (\\N{CJK UNIFIED IDEOGRAPH-6210}) missing from current font.\n",
            "  plt.savefig(f'{base_path}final_project/charts/plot_categorical_variables.jpg')\n",
            "<ipython-input-5-49937c16cc7e>:60: UserWarning: Glyph 22799 (\\N{CJK UNIFIED IDEOGRAPH-590F}) missing from current font.\n",
            "  plt.savefig(f'{base_path}final_project/charts/plot_categorical_variables.jpg')\n",
            "<ipython-input-5-49937c16cc7e>:60: UserWarning: Glyph 30446 (\\N{CJK UNIFIED IDEOGRAPH-76EE}) missing from current font.\n",
            "  plt.savefig(f'{base_path}final_project/charts/plot_categorical_variables.jpg')\n",
            "<ipython-input-5-49937c16cc7e>:60: UserWarning: Glyph 28465 (\\N{CJK UNIFIED IDEOGRAPH-6F31}) missing from current font.\n",
            "  plt.savefig(f'{base_path}final_project/charts/plot_categorical_variables.jpg')\n",
            "<ipython-input-5-49937c16cc7e>:60: UserWarning: Glyph 30707 (\\N{CJK UNIFIED IDEOGRAPH-77F3}) missing from current font.\n",
            "  plt.savefig(f'{base_path}final_project/charts/plot_categorical_variables.jpg')\n"
          ]
        }
      ]
    },
    {
      "cell_type": "code",
      "source": [
        "len(books_df)"
      ],
      "metadata": {
        "colab": {
          "base_uri": "https://localhost:8080/"
        },
        "id": "G35ixNEHiOPy",
        "outputId": "c91eb200-ce5a-4801-d4f0-16b23f44030b"
      },
      "execution_count": null,
      "outputs": [
        {
          "output_type": "execute_result",
          "data": {
            "text/plain": [
              "186826"
            ]
          },
          "metadata": {},
          "execution_count": 7
        }
      ]
    },
    {
      "cell_type": "code",
      "source": [
        "%cd {base_path}final_project\n",
        "!git config --global --unset credential.helper\n",
        "#!git config --global user.name \"fernandaluft\"\n",
        "#!git config --global user.email \"fernandaluft@gmail.com\"\n",
        "#!git config --global user.name \"neural1977\"\n",
        "#!git config --global user.email \"pugliese05@gmail.com\"\n",
        "!git add .\n",
        "!git commit -m \"New Final Project\"\n"
      ],
      "metadata": {
        "colab": {
          "base_uri": "https://localhost:8080/"
        },
        "id": "6UrEmH-9vPf7",
        "outputId": "f12e1c0d-0222-4655-c6c3-1abea455440a"
      },
      "execution_count": null,
      "outputs": [
        {
          "output_type": "stream",
          "name": "stdout",
          "text": [
            "/content/final_project\n",
            "On branch main\n",
            "Your branch is ahead of 'origin/main' by 1 commit.\n",
            "  (use \"git push\" to publish your local commits)\n",
            "\n",
            "nothing to commit, working tree clean\n"
          ]
        }
      ]
    },
    {
      "cell_type": "code",
      "source": [
        "!git push origin main"
      ],
      "metadata": {
        "colab": {
          "base_uri": "https://localhost:8080/"
        },
        "id": "BaT9ha6vdGEl",
        "outputId": "8594a5d2-1b5a-4d1d-c4d4-cd3415e9827f"
      },
      "execution_count": null,
      "outputs": [
        {
          "output_type": "stream",
          "name": "stdout",
          "text": [
            "fatal: could not read Username for 'https://github.com': No such device or address\n"
          ]
        }
      ]
    }
  ],
  "metadata": {
    "kernelspec": {
      "display_name": "Python 3",
      "name": "python3"
    },
    "language_info": {
      "codemirror_mode": {
        "name": "ipython",
        "version": 3
      },
      "file_extension": ".py",
      "mimetype": "text/x-python",
      "name": "python",
      "nbconvert_exporter": "python",
      "pygments_lexer": "ipython3",
      "version": "3.11.4"
    },
    "colab": {
      "provenance": [],
      "machine_shape": "hm"
    }
  },
  "nbformat": 4,
  "nbformat_minor": 0
}
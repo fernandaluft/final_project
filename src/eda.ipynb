{
  "cells": [
    {
      "cell_type": "code",
      "source": [
        "import os\n",
        "from pathlib import Path\n",
        "# Check if the code is running on Google Colab\n",
        "try:\n",
        "    import google.colab\n",
        "    IN_COLAB = True\n",
        "    base_path = \"/content/\"\n",
        "    if Path(f\"{base_path}final_project\").is_dir():\n",
        "      %cd {base_path}final_project\n",
        "      !git pull\n",
        "      %cd {base_path}\n",
        "    else:\n",
        "      !git clone https://github.com/fernandaluft/final_project.git\n",
        "except ImportError:\n",
        "    IN_COLAB = False\n",
        "    base_path = \"/workspaces/\""
      ],
      "metadata": {
        "colab": {
          "base_uri": "https://localhost:8080/"
        },
        "id": "CifM0L09jcsh",
        "outputId": "9bc90067-7825-4183-d923-af9734437e27"
      },
      "execution_count": 7,
      "outputs": [
        {
          "output_type": "stream",
          "name": "stdout",
          "text": [
            "/content/final_project\n",
            "Already up to date.\n",
            "/content\n"
          ]
        }
      ]
    },
    {
      "cell_type": "code",
      "execution_count": 8,
      "metadata": {
        "id": "RWE8jndNjVYM"
      },
      "outputs": [],
      "source": [
        "import pandas as pd\n",
        "import numpy as np\n",
        "import matplotlib.pyplot as plt\n",
        "import seaborn as sns\n",
        "from final_project.src.scraping import Scraping"
      ]
    },
    {
      "cell_type": "code",
      "execution_count": 9,
      "metadata": {
        "id": "Pmx0u6u4jVYQ"
      },
      "outputs": [],
      "source": [
        "if IN_COLAB==True:\n",
        "  scraping = Scraping(IN_COLAB)\n",
        "  scraping.kaggle_scrape()"
      ]
    },
    {
      "cell_type": "code",
      "execution_count": 10,
      "metadata": {
        "id": "ahjJZTeRjVYR"
      },
      "outputs": [],
      "source": [
        "limit = 5000"
      ]
    },
    {
      "cell_type": "code",
      "execution_count": 11,
      "metadata": {
        "id": "VvKweH2qjVYS"
      },
      "outputs": [],
      "source": [
        "class Eda():\n",
        "    def __init__(self, limit):\n",
        "        if limit != None:\n",
        "            self.df1 = pd.read_csv(f'{base_path}final_project/data/books_data.csv').sample(limit)\n",
        "            self.df2 = pd.read_csv(f'{base_path}final_project/data/Books_rating.csv').sample(limit)\n",
        "        else:\n",
        "            self.df1 = pd.read_csv(f'{base_path}final_project/data/books_data.csv')\n",
        "            self.df2 = pd.read_csv(f'{base_path}final_project/data/Books_rating.csv')\n",
        "\n",
        "    def merge_datasets(self):\n",
        "        self.books_df = self.df1.merge(self.df2, left_on='Title', right_on='Title', how='inner')\n",
        "        os.makedirs(f'{base_path}final_project/preprocessed_data', exist_ok=True)\n",
        "        self.books_df.to_csv(f\"{base_path}final_project/preprocessed_data/books_reviews.csv\", index=False)\n",
        "        return self.books_df\n",
        "\n",
        "    def print_info(self):\n",
        "        print(self.books_df.info())\n",
        "        print(self.books_df.head())"
      ]
    },
    {
      "cell_type": "code",
      "execution_count": 12,
      "metadata": {
        "colab": {
          "base_uri": "https://localhost:8080/"
        },
        "id": "_Zxk58cRjVYT",
        "outputId": "660cd048-366d-439d-d14a-14d8efa14daa"
      },
      "outputs": [
        {
          "output_type": "stream",
          "name": "stdout",
          "text": [
            "<class 'pandas.core.frame.DataFrame'>\n",
            "Int64Index: 119 entries, 0 to 118\n",
            "Data columns (total 19 columns):\n",
            " #   Column              Non-Null Count  Dtype  \n",
            "---  ------              --------------  -----  \n",
            " 0   Title               118 non-null    object \n",
            " 1   description         93 non-null     object \n",
            " 2   authors             108 non-null    object \n",
            " 3   image               108 non-null    object \n",
            " 4   previewLink         111 non-null    object \n",
            " 5   publisher           94 non-null     object \n",
            " 6   publishedDate       111 non-null    object \n",
            " 7   infoLink            111 non-null    object \n",
            " 8   categories          100 non-null    object \n",
            " 9   ratingsCount        65 non-null     float64\n",
            " 10  Id                  119 non-null    object \n",
            " 11  Price               18 non-null     float64\n",
            " 12  User_id             96 non-null     object \n",
            " 13  profileName         96 non-null     object \n",
            " 14  review/helpfulness  119 non-null    object \n",
            " 15  review/score        119 non-null    float64\n",
            " 16  review/time         119 non-null    int64  \n",
            " 17  review/summary      119 non-null    object \n",
            " 18  review/text         119 non-null    object \n",
            "dtypes: float64(3), int64(1), object(15)\n",
            "memory usage: 18.6+ KB\n",
            "None\n",
            "                              Title  \\\n",
            "0  The time machine,: An invention,   \n",
            "1  The time machine,: An invention,   \n",
            "2  The time machine,: An invention,   \n",
            "3                      The Notebook   \n",
            "4                      The Notebook   \n",
            "\n",
            "                                         description  \\\n",
            "0  The Time Machine is one of the most enduring w...   \n",
            "1  The Time Machine is one of the most enduring w...   \n",
            "2  The Time Machine is one of the most enduring w...   \n",
            "3  This step-by-step, highly visual text provides...   \n",
            "4  This step-by-step, highly visual text provides...   \n",
            "\n",
            "                             authors  \\\n",
            "0  ['H. G. Wells', 'Leon E. Stover']   \n",
            "1  ['H. G. Wells', 'Leon E. Stover']   \n",
            "2  ['H. G. Wells', 'Leon E. Stover']   \n",
            "3                   ['Jean Andrews']   \n",
            "4                   ['Jean Andrews']   \n",
            "\n",
            "                                               image  \\\n",
            "0  http://books.google.com/books/content?id=btrKy...   \n",
            "1  http://books.google.com/books/content?id=btrKy...   \n",
            "2  http://books.google.com/books/content?id=btrKy...   \n",
            "3  http://books.google.com/books/content?id=bUILA...   \n",
            "4  http://books.google.com/books/content?id=bUILA...   \n",
            "\n",
            "                                         previewLink             publisher  \\\n",
            "0  http://books.google.com/books?id=btrKygAACAAJ&...  McFarland Publishing   \n",
            "1  http://books.google.com/books?id=btrKygAACAAJ&...  McFarland Publishing   \n",
            "2  http://books.google.com/books?id=btrKygAACAAJ&...  McFarland Publishing   \n",
            "3  http://books.google.nl/books?id=bUILAAAAQBAJ&p...      Cengage Learning   \n",
            "4  http://books.google.nl/books?id=bUILAAAAQBAJ&p...      Cengage Learning   \n",
            "\n",
            "  publishedDate                                           infoLink  \\\n",
            "0       2012-04  http://books.google.com/books?id=btrKygAACAAJ&...   \n",
            "1       2012-04  http://books.google.com/books?id=btrKygAACAAJ&...   \n",
            "2       2012-04  http://books.google.com/books?id=btrKygAACAAJ&...   \n",
            "3    2013-01-09  http://books.google.nl/books?id=bUILAAAAQBAJ&d...   \n",
            "4    2013-01-09  http://books.google.nl/books?id=bUILAAAAQBAJ&d...   \n",
            "\n",
            "                      categories  ratingsCount          Id  Price  \\\n",
            "0  ['Biography & Autobiography']           NaN  B0006AQG7U    NaN   \n",
            "1  ['Biography & Autobiography']           NaN  B0006AQG7U    NaN   \n",
            "2  ['Biography & Autobiography']           NaN  B0006AQG7U    NaN   \n",
            "3                  ['Computers']           NaN  1586216147    NaN   \n",
            "4                  ['Computers']           NaN  1586216147    NaN   \n",
            "\n",
            "          User_id         profileName review/helpfulness  review/score  \\\n",
            "0  A3BE1GU6WQKGB3       Such a LitWit                1/1           5.0   \n",
            "1  A1RFQVHBKVN4TA         Debra Hamel                3/3           4.0   \n",
            "2             NaN                 NaN                0/0           4.0   \n",
            "3             NaN                 NaN                0/0           5.0   \n",
            "4   AVAG4OBRKUE11  C. Camp \"clcamp11\"                1/2           5.0   \n",
            "\n",
            "   review/time                               review/summary  \\\n",
            "0   1346976000                             Ugh. So awesome.   \n",
            "1   1257897600  Pessimistic view of man's ultimate progress   \n",
            "2   1035676800                  A Great Book But Very Short   \n",
            "3    930873600                  Another Heart-Warming Story   \n",
            "4   1087948800                     Page turning love story!   \n",
            "\n",
            "                                         review/text  \n",
            "0  I loved this story as a kid, and I love it now...  \n",
            "1  With a Kindle in one's hands, downloading and ...  \n",
            "2  This book was very interesting and fun to read...  \n",
            "3  &quot;The Notebook&quot; by Nicholas Sparks is...  \n",
            "4  I am normally a slow reader, even with short b...  \n"
          ]
        }
      ],
      "source": [
        "eda = Eda(limit)\n",
        "books_df = eda.merge_datasets()\n",
        "eda.print_info()"
      ]
    },
    {
      "cell_type": "code",
      "source": [
        "%cd {base_path}final_project\n",
        "#!git config --global user.name \"fernandaluft\"\n",
        "#!git config --global user.email \"fernandaluft@gmail.com\"\n",
        "!git config --global user.name \"neural1977\"\n",
        "!git config --global user.email \"pugliese05@gmail.com\"\n",
        "!git add .\n",
        "!git commit -m \"New Final Project\"\n"
      ],
      "metadata": {
        "colab": {
          "base_uri": "https://localhost:8080/"
        },
        "id": "6UrEmH-9vPf7",
        "outputId": "3dd0a673-fd85-4c16-89fd-2ff9080c509a"
      },
      "execution_count": 13,
      "outputs": [
        {
          "output_type": "stream",
          "name": "stdout",
          "text": [
            "/content/final_project\n",
            "[main 707a513] New Final Project\n",
            " 1 file changed, 120 insertions(+)\n",
            " create mode 100644 preprocessed_data/books_reviews.csv\n"
          ]
        }
      ]
    },
    {
      "cell_type": "code",
      "source": [
        "!git push origin main"
      ],
      "metadata": {
        "colab": {
          "base_uri": "https://localhost:8080/"
        },
        "id": "BaT9ha6vdGEl",
        "outputId": "3b485b70-cfe5-4e0a-fc7d-91c27e0d0c13"
      },
      "execution_count": 14,
      "outputs": [
        {
          "output_type": "stream",
          "name": "stdout",
          "text": [
            "fatal: could not read Username for 'https://github.com': No such device or address\n"
          ]
        }
      ]
    }
  ],
  "metadata": {
    "kernelspec": {
      "display_name": "Python 3",
      "name": "python3"
    },
    "language_info": {
      "codemirror_mode": {
        "name": "ipython",
        "version": 3
      },
      "file_extension": ".py",
      "mimetype": "text/x-python",
      "name": "python",
      "nbconvert_exporter": "python",
      "pygments_lexer": "ipython3",
      "version": "3.11.4"
    },
    "colab": {
      "provenance": [],
      "machine_shape": "hm"
    }
  },
  "nbformat": 4,
  "nbformat_minor": 0
}